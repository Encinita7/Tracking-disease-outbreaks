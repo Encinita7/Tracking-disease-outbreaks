{
 "cells": [
  {
   "cell_type": "markdown",
   "metadata": {},
   "source": [
    "### Librerías necesarias"
   ]
  },
  {
   "cell_type": "code",
   "execution_count": 1,
   "metadata": {},
   "outputs": [],
   "source": [
    "import pandas as pd\n",
    "import matplotlib.pyplot as plt\n",
    "import numpy as np\n",
    "import unidecode\n"
   ]
  },
  {
   "cell_type": "markdown",
   "metadata": {},
   "source": [
    "### Lectura de datos\n",
    "\n",
    "Contamos con los titulares de noticias en un archivo txt, lo leemos con pandas y los mostramos.\n",
    "- Vemos Zika, virus no conocido, Rabies, Rotavirus.\n",
    "- De df.sample() vemos Measles, Hepatitis, Norovirus, Tuberculosis, Chikungunya, Bronchitis, Rhinovirus, Malaria, Dengue, Pneumonia, Herpes, HIV, Mad Cow, Chickenpox, Chlamydia, West Nile Virus, Swine Flu, Meningitis, etc."
   ]
  },
  {
   "cell_type": "code",
   "execution_count": 2,
   "metadata": {},
   "outputs": [
    {
     "data": {
      "text/html": [
       "<div>\n",
       "<style scoped>\n",
       "    .dataframe tbody tr th:only-of-type {\n",
       "        vertical-align: middle;\n",
       "    }\n",
       "\n",
       "    .dataframe tbody tr th {\n",
       "        vertical-align: top;\n",
       "    }\n",
       "\n",
       "    .dataframe thead th {\n",
       "        text-align: right;\n",
       "    }\n",
       "</style>\n",
       "<table border=\"1\" class=\"dataframe\">\n",
       "  <thead>\n",
       "    <tr style=\"text-align: right;\">\n",
       "      <th></th>\n",
       "      <th>Headlines</th>\n",
       "    </tr>\n",
       "  </thead>\n",
       "  <tbody>\n",
       "    <tr>\n",
       "      <th>0</th>\n",
       "      <td>Could Zika Reach New York City?</td>\n",
       "    </tr>\n",
       "    <tr>\n",
       "      <th>1</th>\n",
       "      <td>First Case of Zika in Miami Beach</td>\n",
       "    </tr>\n",
       "    <tr>\n",
       "      <th>2</th>\n",
       "      <td>Mystery Virus Spreads in Recife, Brazil</td>\n",
       "    </tr>\n",
       "    <tr>\n",
       "      <th>3</th>\n",
       "      <td>Dallas man comes down with case of Zika</td>\n",
       "    </tr>\n",
       "    <tr>\n",
       "      <th>4</th>\n",
       "      <td>Trinidad confirms first Zika case</td>\n",
       "    </tr>\n",
       "    <tr>\n",
       "      <th>...</th>\n",
       "      <td>...</td>\n",
       "    </tr>\n",
       "    <tr>\n",
       "      <th>644</th>\n",
       "      <td>Rumors about Rabies spreading in Jerusalem hav...</td>\n",
       "    </tr>\n",
       "    <tr>\n",
       "      <th>645</th>\n",
       "      <td>More Zika patients reported in Indang</td>\n",
       "    </tr>\n",
       "    <tr>\n",
       "      <th>646</th>\n",
       "      <td>Suva authorities confirmed the spread of Rotav...</td>\n",
       "    </tr>\n",
       "    <tr>\n",
       "      <th>647</th>\n",
       "      <td>More Zika patients reported in Bella Vista</td>\n",
       "    </tr>\n",
       "    <tr>\n",
       "      <th>648</th>\n",
       "      <td>Zika Outbreak in Wichita Falls</td>\n",
       "    </tr>\n",
       "  </tbody>\n",
       "</table>\n",
       "<p>649 rows × 1 columns</p>\n",
       "</div>"
      ],
      "text/plain": [
       "                                             Headlines\n",
       "0                      Could Zika Reach New York City?\n",
       "1                    First Case of Zika in Miami Beach\n",
       "2              Mystery Virus Spreads in Recife, Brazil\n",
       "3              Dallas man comes down with case of Zika\n",
       "4                    Trinidad confirms first Zika case\n",
       "..                                                 ...\n",
       "644  Rumors about Rabies spreading in Jerusalem hav...\n",
       "645              More Zika patients reported in Indang\n",
       "646  Suva authorities confirmed the spread of Rotav...\n",
       "647         More Zika patients reported in Bella Vista\n",
       "648                     Zika Outbreak in Wichita Falls\n",
       "\n",
       "[649 rows x 1 columns]"
      ]
     },
     "execution_count": 2,
     "metadata": {},
     "output_type": "execute_result"
    }
   ],
   "source": [
    "df = pd.read_fwf('headlines.txt')\n",
    "df.columns = ['Headlines']\n",
    "df"
   ]
  },
  {
   "cell_type": "code",
   "execution_count": 3,
   "metadata": {},
   "outputs": [
    {
     "data": {
      "text/html": [
       "<div>\n",
       "<style scoped>\n",
       "    .dataframe tbody tr th:only-of-type {\n",
       "        vertical-align: middle;\n",
       "    }\n",
       "\n",
       "    .dataframe tbody tr th {\n",
       "        vertical-align: top;\n",
       "    }\n",
       "\n",
       "    .dataframe thead th {\n",
       "        text-align: right;\n",
       "    }\n",
       "</style>\n",
       "<table border=\"1\" class=\"dataframe\">\n",
       "  <thead>\n",
       "    <tr style=\"text-align: right;\">\n",
       "      <th></th>\n",
       "      <th>Headlines</th>\n",
       "    </tr>\n",
       "  </thead>\n",
       "  <tbody>\n",
       "    <tr>\n",
       "      <th>205</th>\n",
       "      <td>Oxford tests new cure for HIV</td>\n",
       "    </tr>\n",
       "  </tbody>\n",
       "</table>\n",
       "</div>"
      ],
      "text/plain": [
       "                         Headlines\n",
       "205  Oxford tests new cure for HIV"
      ]
     },
     "execution_count": 3,
     "metadata": {},
     "output_type": "execute_result"
    }
   ],
   "source": [
    "df.sample()"
   ]
  },
  {
   "cell_type": "markdown",
   "metadata": {},
   "source": [
    "Se sacan los 'acentos' a los headlines"
   ]
  },
  {
   "cell_type": "code",
   "execution_count": 4,
   "metadata": {},
   "outputs": [
    {
     "data": {
      "text/plain": [
       "['More Zika patients reported in Indang',\n",
       " 'Suva authorities confirmed the spread of Rotavirus',\n",
       " 'More Zika patients reported in Bella Vista',\n",
       " 'Zika Outbreak in Wichita Falls']"
      ]
     },
     "execution_count": 4,
     "metadata": {},
     "output_type": "execute_result"
    }
   ],
   "source": [
    "df['Headlines'] = df['Headlines'].apply(unidecode.unidecode)\n",
    "headlines = df['Headlines'].tolist()\n",
    "decoded_headlines = [unidecode.unidecode(headline) for headline in headlines]\n",
    "decoded_headlines[-4:]"
   ]
  },
  {
   "cell_type": "markdown",
   "metadata": {},
   "source": [
    "### Listas de países y ciudades usando GeonamesCache"
   ]
  },
  {
   "cell_type": "code",
   "execution_count": 41,
   "metadata": {},
   "outputs": [
    {
     "data": {
      "text/plain": [
       "['Andorra',\n",
       " 'United Arab Emirates',\n",
       " 'Afghanistan',\n",
       " 'Antigua and Barbuda',\n",
       " 'Anguilla',\n",
       " 'Albania',\n",
       " 'Armenia',\n",
       " 'Angola',\n",
       " 'Antarctica',\n",
       " 'Argentina']"
      ]
     },
     "execution_count": 41,
     "metadata": {},
     "output_type": "execute_result"
    }
   ],
   "source": [
    "import geonamescache\n",
    "gc = geonamescache.GeonamesCache()\n",
    "Countries = [Country['name'] for Country in gc.get_countries().values()]\n",
    "Countries[:10]"
   ]
  },
  {
   "cell_type": "code",
   "execution_count": 42,
   "metadata": {},
   "outputs": [
    {
     "data": {
      "text/plain": [
       "['les Escaldes',\n",
       " 'Andorra la Vella',\n",
       " 'Umm Al Quwain City',\n",
       " 'Ras Al Khaimah City',\n",
       " 'Zayed City',\n",
       " 'Khawr Fakkān',\n",
       " 'Dubai',\n",
       " 'Dibba Al-Fujairah',\n",
       " 'Dibba Al-Hisn',\n",
       " 'Sharjah']"
      ]
     },
     "execution_count": 42,
     "metadata": {},
     "output_type": "execute_result"
    }
   ],
   "source": [
    "Cities = [City['name'] for City in gc.get_cities().values()]\n",
    "Cities[:10]"
   ]
  },
  {
   "cell_type": "markdown",
   "metadata": {},
   "source": [
    "### Se buscan las ciudades duplicadas"
   ]
  },
  {
   "cell_type": "code",
   "execution_count": 7,
   "metadata": {},
   "outputs": [
    {
     "data": {
      "text/plain": [
       "[('Richmond', 9),\n",
       " ('San Pedro', 8),\n",
       " ('San Fernando', 8),\n",
       " ('Springfield', 8),\n",
       " ('Victoria', 7),\n",
       " ('Santa Rosa', 7),\n",
       " ('Santa Cruz', 7),\n",
       " ('La Unión', 7),\n",
       " ('San Vicente', 6),\n",
       " ('San Lorenzo', 6)]"
      ]
     },
     "execution_count": 7,
     "metadata": {},
     "output_type": "execute_result"
    }
   ],
   "source": [
    "from collections import Counter\n",
    "\n",
    "city_counts = Counter(Cities)\n",
    "city_counts.most_common(10)"
   ]
  },
  {
   "cell_type": "markdown",
   "metadata": {},
   "source": [
    "Usando nuevamente unidecode se sacan los acentos a los países y ciudades, esto haciendo match entre las palabras con y sin acento."
   ]
  },
  {
   "cell_type": "code",
   "execution_count": 8,
   "metadata": {},
   "outputs": [
    {
     "data": {
      "text/plain": [
       "'Bāzār-e Yakāwlang'"
      ]
     },
     "execution_count": 8,
     "metadata": {},
     "output_type": "execute_result"
    }
   ],
   "source": [
    "#se le sacaran los acentos a los nombres que son como: 'Bāzār-e Yakāwlang y se les hace match como dando el sin acentuar\n",
    "\n",
    "country_accent_mapping = {\n",
    "    unidecode.unidecode(Country): Country for Country in Countries\n",
    "}\n",
    "city_accent_mapping = {\n",
    "    unidecode.unidecode(City): City for City in Cities\n",
    "}\n",
    "city_accent_mapping[\"Bazar-e Yakawlang\"]"
   ]
  },
  {
   "cell_type": "markdown",
   "metadata": {},
   "source": [
    "Se busca cuantas ciudades y países hay que en los titulares."
   ]
  },
  {
   "cell_type": "code",
   "execution_count": 9,
   "metadata": {},
   "outputs": [
    {
     "name": "stdout",
     "output_type": "stream",
     "text": [
      "There are 24917 cities to look through.\n",
      "There are 252 countries to look through.\n"
     ]
    }
   ],
   "source": [
    "unaccented_cities = list(city_accent_mapping.keys())\n",
    "unaccented_countries = set(country_accent_mapping.keys())\n",
    "\n",
    "print(f\"There are {len(unaccented_cities)} cities to look through.\")\n",
    "print(f\"There are {len(unaccented_countries)} countries to look through.\")"
   ]
  },
  {
   "cell_type": "markdown",
   "metadata": {},
   "source": [
    "### Match de palabras\n",
    "\n",
    "Usando regular expressions se busca poder hacer match para buscar las ciudades, que haga match con palabras enteras y que luego si hay ciudades qwue contienen palabras similares, como las iniciadas con 'San', se ordenen de ciudades con nombres más largos a nombres más cortos, así buscará primero la ciudad con nombre más largo y hará match."
   ]
  },
  {
   "cell_type": "code",
   "execution_count": 10,
   "metadata": {},
   "outputs": [
    {
     "data": {
      "text/plain": [
       "<re.Match object; span=(0, 3), match='San'>"
      ]
     },
     "execution_count": 10,
     "metadata": {},
     "output_type": "execute_result"
    }
   ],
   "source": [
    "import re\n",
    "problem_city = 'San Jose'\n",
    "re.search('\\\\bSan\\\\b|\\\\bSan Jose\\\\b', problem_city)"
   ]
  },
  {
   "cell_type": "code",
   "execution_count": 11,
   "metadata": {},
   "outputs": [
    {
     "data": {
      "text/plain": [
       "<re.Match object; span=(0, 8), match='San Jose'>"
      ]
     },
     "execution_count": 11,
     "metadata": {},
     "output_type": "execute_result"
    }
   ],
   "source": [
    "re.search('\\\\bSan Jose\\\\b|\\\\bSan\\\\b', problem_city)"
   ]
  },
  {
   "cell_type": "markdown",
   "metadata": {},
   "source": [
    "Se ordenan países y ciudades de nombre más largo a nombre más corto."
   ]
  },
  {
   "cell_type": "code",
   "execution_count": 12,
   "metadata": {},
   "outputs": [
    {
     "data": {
      "text/plain": [
       "['Sandaoling Lutiankuang Wuqi Nongchang',\n",
       " 'Sant Pere, Santa Caterina i La Ribera']"
      ]
     },
     "execution_count": 12,
     "metadata": {},
     "output_type": "execute_result"
    }
   ],
   "source": [
    "unaccented_cities = sorted(unaccented_cities, key=lambda x: len(x), reverse=True)\n",
    "unaccented_cities[:2]"
   ]
  },
  {
   "cell_type": "code",
   "execution_count": 13,
   "metadata": {},
   "outputs": [
    {
     "data": {
      "text/plain": [
       "['South Georgia and the South Sandwich Islands',\n",
       " 'United States Minor Outlying Islands']"
      ]
     },
     "execution_count": 13,
     "metadata": {},
     "output_type": "execute_result"
    }
   ],
   "source": [
    "unaccented_countries = sorted(unaccented_countries, key=lambda x: len(x), reverse=True)\n",
    "unaccented_countries[:2]"
   ]
  },
  {
   "cell_type": "markdown",
   "metadata": {},
   "source": [
    "Asegurar que se hará match en palabras enteras y no solo en palabras a medias, como las ciudades con 'San'."
   ]
  },
  {
   "cell_type": "code",
   "execution_count": 14,
   "metadata": {},
   "outputs": [
    {
     "data": {
      "text/plain": [
       "'icina i la Torre Llobeta\\\\b|\\\\bSaint-Maximin-la-Sainte-Baume\\\\b|\\\\bTamuning-Tumon-Harmon Village\\\\b|\\\\bTultitlan de Mariano Escobedo\\\\b|\\\\bSan Bernardino Tlaxcalancingo\\\\b|\\\\bSan Francisco Tlalcilalcalpan\\\\b|\\\\bFraccionamiento Ciudad Olmeca\\\\b|\\\\bPresidencia Roque Saenz Pena\\\\b|\\\\bAgincourt South-Malvern West\\\\b|\\\\bZ'"
      ]
     },
     "execution_count": 14,
     "metadata": {},
     "output_type": "execute_result"
    }
   ],
   "source": [
    "city_regex = r'\\b|\\b'.join(unaccented_cities)\n",
    "city_regex[1500:1800]"
   ]
  },
  {
   "cell_type": "markdown",
   "metadata": {},
   "source": [
    "Se prueba que funcionó el hacer el match con titulares random, donde se nota que en cada titular se logró encontrar y separar la ciudad donde sucede."
   ]
  },
  {
   "cell_type": "code",
   "execution_count": 15,
   "metadata": {},
   "outputs": [
    {
     "name": "stdout",
     "output_type": "stream",
     "text": [
      "Tupelo Residents Recieve Syphilis vaccine\n",
      "Tupelo \n",
      "\n",
      "Rabies Exposure in Hamilton\n",
      "Hamilton \n",
      "\n",
      "Zika case reported in Rizal\n",
      "Rizal \n",
      "\n",
      "Zika cases concern Charlotte residents\n",
      "Charlotte \n",
      "\n",
      "Pune woman diagnosed with Zika\n",
      "Pune \n",
      "\n",
      "Vericella spreading in Ibadan\n",
      "Ibadan \n",
      "\n",
      "Pune woman diagnosed with Zika\n",
      "Pune \n",
      "\n",
      "Mad Cow Disease Hits Rotterdam\n",
      "Rotterdam \n",
      "\n",
      "Batangas Tourism Takes a Hit as Virus Spreads\n",
      "Batangas \n",
      "\n",
      "Zika symptoms spotted in Hollywood\n",
      "Hollywood \n",
      "\n"
     ]
    }
   ],
   "source": [
    "np.random.seed(50)\n",
    "\n",
    "test_headlines = np.random.choice(np.ravel(df), 10)\n",
    "\n",
    "for test_headline in test_headlines:\n",
    "    print(test_headline)\n",
    "    match = re.search(city_regex, test_headline)\n",
    "    if match:\n",
    "        print(match.group(0), \"\\n\")"
   ]
  },
  {
   "cell_type": "markdown",
   "metadata": {},
   "source": [
    "Se hace el mismo procedimiento pero con países."
   ]
  },
  {
   "cell_type": "code",
   "execution_count": 16,
   "metadata": {},
   "outputs": [
    {
     "data": {
      "text/plain": [
       "'South Georgia and the South Sandwich Islands\\\\b|\\\\bUnited States Minor Outlying Islands\\\\b|\\\\bBonaire, S'"
      ]
     },
     "execution_count": 16,
     "metadata": {},
     "output_type": "execute_result"
    }
   ],
   "source": [
    "country_regex = r\"\\b|\\b\".join(unaccented_countries)\n",
    "country_regex[:100]"
   ]
  },
  {
   "cell_type": "markdown",
   "metadata": {},
   "source": [
    "Pero, hay un problema que es que no hay match con países, y esto se puede deber a que no hay una suficiente cantidad de países nombrados en los titulares, lo que hace difícil la función del match."
   ]
  },
  {
   "cell_type": "code",
   "execution_count": 17,
   "metadata": {},
   "outputs": [
    {
     "name": "stdout",
     "output_type": "stream",
     "text": [
      "Outbreak of Zika in Leesburg\n",
      "Authorities are Worried about the Spread of Mad Cow Disease in Rome\n",
      "More people in Berkeley are infected with Swine Flu every year\n",
      "Seattle scientists get $500,000 grant to pursue Zika vaccine New 7:50 pm\n",
      "Zika seminars in Yuma County\n",
      "Will Rotavirus vaccine help Addis Ababa?\n",
      "West Nile Virus Hits Yogyakarta\n",
      "Varicella re-emerges in Lagos\n",
      "The Spread of Rhinovirus in Boardman has been Confirmed\n",
      "Fayetteville authorities confirmed the spread of HIV\n"
     ]
    }
   ],
   "source": [
    "np.random.seed(100)\n",
    "test_headlines = np.random.choice(np.ravel(df), 10)\n",
    "\n",
    "for test_headline in test_headlines:\n",
    "    print(test_headline)\n",
    "    match = re.search(country_regex, test_headline)\n",
    "    if match:\n",
    "        print(match.group(0), \"\\n\")"
   ]
  },
  {
   "cell_type": "markdown",
   "metadata": {},
   "source": [
    "Se prueba que cuando hay una ciudad y país en el mismo titular, el programa es capaz de detectar ambos y mostrarlos."
   ]
  },
  {
   "cell_type": "code",
   "execution_count": 18,
   "metadata": {},
   "outputs": [
    {
     "name": "stdout",
     "output_type": "stream",
     "text": [
      "Headlines    Mystery Virus Spreads in Recife, Brazil\n",
      "Name: 2, dtype: object\n",
      "Recife\n",
      "Brazil\n"
     ]
    }
   ],
   "source": [
    "line_index = 2\n",
    "test_headline = str(df.iloc[line_index])\n",
    "print(test_headline)\n",
    "print(re.search(city_regex, test_headline).group(0))\n",
    "print(re.search(country_regex, test_headline).group(0))"
   ]
  },
  {
   "cell_type": "code",
   "execution_count": 19,
   "metadata": {},
   "outputs": [
    {
     "name": "stdout",
     "output_type": "stream",
     "text": [
      "Recife\n",
      "Brazil\n"
     ]
    }
   ],
   "source": [
    "print(city_accent_mapping[\"Recife\"])\n",
    "print(country_accent_mapping[\"Brazil\"])"
   ]
  },
  {
   "cell_type": "markdown",
   "metadata": {},
   "source": [
    "Se crea una función que tome los titulares y busque los países y ciudades usando regular expressions. Si no hay una ciudad o país, escribe None. "
   ]
  },
  {
   "cell_type": "code",
   "execution_count": 20,
   "metadata": {},
   "outputs": [],
   "source": [
    "def find_city_and_country_in_headline(Headlines):\n",
    "    city_match = re.search(city_regex, str(Headlines))\n",
    "    country_match = re.search(country_regex, str(Headlines))\n",
    "    Cities = None if not city_match else city_match.group(0)\n",
    "    Countries = None if not country_match else country_match.group(0)\n",
    "    return dict(Headlines=Headlines, Countries=Countries, Cities=Cities)"
   ]
  },
  {
   "cell_type": "code",
   "execution_count": 21,
   "metadata": {},
   "outputs": [
    {
     "data": {
      "text/plain": [
       "{'Headlines': Headlines    Mystery Virus Spreads in Recife, Brazil\n",
       " Name: 2, dtype: object,\n",
       " 'Countries': 'Brazil',\n",
       " 'Cities': 'Recife'}"
      ]
     },
     "execution_count": 21,
     "metadata": {},
     "output_type": "execute_result"
    }
   ],
   "source": [
    "find_city_and_country_in_headline(df.iloc[2])"
   ]
  },
  {
   "cell_type": "code",
   "execution_count": 22,
   "metadata": {},
   "outputs": [
    {
     "data": {
      "text/plain": [
       "{'Headlines': Headlines    First Case of Zika in Miami Beach\n",
       " Name: 1, dtype: object,\n",
       " 'Countries': None,\n",
       " 'Cities': 'Miami Beach'}"
      ]
     },
     "execution_count": 22,
     "metadata": {},
     "output_type": "execute_result"
    }
   ],
   "source": [
    "find_city_and_country_in_headline(df.iloc[1])"
   ]
  },
  {
   "cell_type": "markdown",
   "metadata": {},
   "source": [
    "Se aplica lo anterior pero para todos los titulares."
   ]
  },
  {
   "cell_type": "code",
   "execution_count": 40,
   "metadata": {},
   "outputs": [
    {
     "data": {
      "text/plain": [
       "[{'Headlines': 'Authorities are Worried about the Spread of Varicella in Clovis',\n",
       "  'Countries': None,\n",
       "  'Cities': 'Clovis'},\n",
       " {'Headlines': 'More Zika patients reported in Fort Worth',\n",
       "  'Countries': None,\n",
       "  'Cities': 'Fort Worth'},\n",
       " {'Headlines': 'Zika symptoms spotted in Boynton Beach',\n",
       "  'Countries': None,\n",
       "  'Cities': 'Boynton Beach'},\n",
       " {'Headlines': 'Outbreak of Zika in Portoviejo',\n",
       "  'Countries': None,\n",
       "  'Cities': 'Portoviejo'},\n",
       " {'Headlines': 'Influenza Exposure in Muscat',\n",
       "  'Countries': None,\n",
       "  'Cities': 'Muscat'},\n",
       " {'Headlines': 'Rumors about Rabies spreading in Jerusalem have been refuted',\n",
       "  'Countries': None,\n",
       "  'Cities': 'Jerusalem'},\n",
       " {'Headlines': 'More Zika patients reported in Indang',\n",
       "  'Countries': None,\n",
       "  'Cities': 'Indang'},\n",
       " {'Headlines': 'Suva authorities confirmed the spread of Rotavirus',\n",
       "  'Countries': None,\n",
       "  'Cities': 'Suva'},\n",
       " {'Headlines': 'More Zika patients reported in Bella Vista',\n",
       "  'Countries': None,\n",
       "  'Cities': 'Bella Vista'},\n",
       " {'Headlines': 'Zika Outbreak in Wichita Falls',\n",
       "  'Countries': None,\n",
       "  'Cities': 'Wichita Falls'}]"
      ]
     },
     "execution_count": 40,
     "metadata": {},
     "output_type": "execute_result"
    }
   ],
   "source": [
    "headline_cities_and_countries = [\n",
    "    find_city_and_country_in_headline(headline) for headline in df['Headlines']\n",
    "]\n",
    "headline_cities_and_countries[-10:]\n"
   ]
  },
  {
   "cell_type": "markdown",
   "metadata": {},
   "source": [
    "Se guardarán los datos en formato JSON, esto por la facilidad de lectura y dado que ha sido mas conveniente. Se comprueba que se guardó bien."
   ]
  },
  {
   "cell_type": "code",
   "execution_count": 24,
   "metadata": {},
   "outputs": [],
   "source": [
    "import json\n",
    "save_file = \"headline_cities_and_countries.json\"\n",
    "with open(save_file, \"w\") as fout:\n",
    "    fout.write(json.dumps(headline_cities_and_countries))"
   ]
  },
  {
   "cell_type": "code",
   "execution_count": 25,
   "metadata": {},
   "outputs": [
    {
     "data": {
      "text/plain": [
       "[{'Headlines': 'Authorities are Worried about the Spread of Varicella in Clovis',\n",
       "  'Countries': None,\n",
       "  'Cities': 'Clovis'},\n",
       " {'Headlines': 'More Zika patients reported in Fort Worth',\n",
       "  'Countries': None,\n",
       "  'Cities': 'Fort Worth'},\n",
       " {'Headlines': 'Zika symptoms spotted in Boynton Beach',\n",
       "  'Countries': None,\n",
       "  'Cities': 'Boynton Beach'},\n",
       " {'Headlines': 'Outbreak of Zika in Portoviejo',\n",
       "  'Countries': None,\n",
       "  'Cities': 'Portoviejo'},\n",
       " {'Headlines': 'Influenza Exposure in Muscat',\n",
       "  'Countries': None,\n",
       "  'Cities': 'Muscat'},\n",
       " {'Headlines': 'Rumors about Rabies spreading in Jerusalem have been refuted',\n",
       "  'Countries': None,\n",
       "  'Cities': 'Jerusalem'},\n",
       " {'Headlines': 'More Zika patients reported in Indang',\n",
       "  'Countries': None,\n",
       "  'Cities': 'Indang'},\n",
       " {'Headlines': 'Suva authorities confirmed the spread of Rotavirus',\n",
       "  'Countries': None,\n",
       "  'Cities': 'Suva'},\n",
       " {'Headlines': 'More Zika patients reported in Bella Vista',\n",
       "  'Countries': None,\n",
       "  'Cities': 'Bella Vista'},\n",
       " {'Headlines': 'Zika Outbreak in Wichita Falls',\n",
       "  'Countries': None,\n",
       "  'Cities': 'Wichita Falls'}]"
      ]
     },
     "execution_count": 25,
     "metadata": {},
     "output_type": "execute_result"
    }
   ],
   "source": [
    "with open(save_file, \"r\") as fin:\n",
    "    check_data = json.loads(fin.read())\n",
    "check_data[-10:]"
   ]
  },
  {
   "cell_type": "markdown",
   "metadata": {},
   "source": [
    "Se guardan los mappings que fueron hechos en un principio, los países y ciudades con accents."
   ]
  },
  {
   "cell_type": "code",
   "execution_count": 26,
   "metadata": {},
   "outputs": [],
   "source": [
    "with open(\"city_accent_mapping.json\", \"w\") as fout:\n",
    "    fout.write(json.dumps(city_accent_mapping))"
   ]
  },
  {
   "cell_type": "code",
   "execution_count": 27,
   "metadata": {},
   "outputs": [],
   "source": [
    "with open(\"country_accent_mapping.json\", \"w\") as fout:\n",
    "    fout.write(json.dumps(country_accent_mapping))"
   ]
  },
  {
   "cell_type": "markdown",
   "metadata": {},
   "source": [
    "# Análisis datos geográficos de los países/ciudades\n",
    "\n",
    "Los datos guardados en formato JSON se pasan directamente a un DataFrame , he ahí su conveniencia. "
   ]
  },
  {
   "cell_type": "code",
   "execution_count": 28,
   "metadata": {},
   "outputs": [
    {
     "data": {
      "text/html": [
       "<div>\n",
       "<style scoped>\n",
       "    .dataframe tbody tr th:only-of-type {\n",
       "        vertical-align: middle;\n",
       "    }\n",
       "\n",
       "    .dataframe tbody tr th {\n",
       "        vertical-align: top;\n",
       "    }\n",
       "\n",
       "    .dataframe thead th {\n",
       "        text-align: right;\n",
       "    }\n",
       "</style>\n",
       "<table border=\"1\" class=\"dataframe\">\n",
       "  <thead>\n",
       "    <tr style=\"text-align: right;\">\n",
       "      <th></th>\n",
       "      <th>Headlines</th>\n",
       "      <th>Countries</th>\n",
       "      <th>Cities</th>\n",
       "    </tr>\n",
       "  </thead>\n",
       "  <tbody>\n",
       "    <tr>\n",
       "      <th>0</th>\n",
       "      <td>Could Zika Reach New York City?</td>\n",
       "      <td>NaN</td>\n",
       "      <td>New York City</td>\n",
       "    </tr>\n",
       "    <tr>\n",
       "      <th>1</th>\n",
       "      <td>First Case of Zika in Miami Beach</td>\n",
       "      <td>NaN</td>\n",
       "      <td>Miami Beach</td>\n",
       "    </tr>\n",
       "    <tr>\n",
       "      <th>2</th>\n",
       "      <td>Mystery Virus Spreads in Recife, Brazil</td>\n",
       "      <td>Brazil</td>\n",
       "      <td>Recife</td>\n",
       "    </tr>\n",
       "    <tr>\n",
       "      <th>3</th>\n",
       "      <td>Dallas man comes down with case of Zika</td>\n",
       "      <td>NaN</td>\n",
       "      <td>Dallas</td>\n",
       "    </tr>\n",
       "    <tr>\n",
       "      <th>4</th>\n",
       "      <td>Trinidad confirms first Zika case</td>\n",
       "      <td>NaN</td>\n",
       "      <td>Trinidad</td>\n",
       "    </tr>\n",
       "    <tr>\n",
       "      <th>5</th>\n",
       "      <td>Zika Concerns are Spreading in Houston</td>\n",
       "      <td>NaN</td>\n",
       "      <td>Houston</td>\n",
       "    </tr>\n",
       "    <tr>\n",
       "      <th>6</th>\n",
       "      <td>Geneve Scientists Battle to Find Cure</td>\n",
       "      <td>NaN</td>\n",
       "      <td>Geneve</td>\n",
       "    </tr>\n",
       "    <tr>\n",
       "      <th>7</th>\n",
       "      <td>The CDC in Atlanta is Growing Worried</td>\n",
       "      <td>NaN</td>\n",
       "      <td>Atlanta</td>\n",
       "    </tr>\n",
       "    <tr>\n",
       "      <th>8</th>\n",
       "      <td>Zika Infested Monkeys in Sao Paulo</td>\n",
       "      <td>NaN</td>\n",
       "      <td>Sao Paulo</td>\n",
       "    </tr>\n",
       "    <tr>\n",
       "      <th>9</th>\n",
       "      <td>Brownsville teen contracts Zika virus</td>\n",
       "      <td>NaN</td>\n",
       "      <td>Brownsville</td>\n",
       "    </tr>\n",
       "  </tbody>\n",
       "</table>\n",
       "</div>"
      ],
      "text/plain": [
       "                                 Headlines Countries         Cities\n",
       "0          Could Zika Reach New York City?       NaN  New York City\n",
       "1        First Case of Zika in Miami Beach       NaN    Miami Beach\n",
       "2  Mystery Virus Spreads in Recife, Brazil    Brazil         Recife\n",
       "3  Dallas man comes down with case of Zika       NaN         Dallas\n",
       "4        Trinidad confirms first Zika case       NaN       Trinidad\n",
       "5   Zika Concerns are Spreading in Houston       NaN        Houston\n",
       "6    Geneve Scientists Battle to Find Cure       NaN         Geneve\n",
       "7    The CDC in Atlanta is Growing Worried       NaN        Atlanta\n",
       "8       Zika Infested Monkeys in Sao Paulo       NaN      Sao Paulo\n",
       "9    Brownsville teen contracts Zika virus       NaN    Brownsville"
      ]
     },
     "execution_count": 28,
     "metadata": {},
     "output_type": "execute_result"
    }
   ],
   "source": [
    "data = pd.read_json(\"headline_cities_and_countries.json\")\n",
    "data = data.replace({None: np.nan})\n",
    "\n",
    "data.head(10)"
   ]
  },
  {
   "cell_type": "code",
   "execution_count": 29,
   "metadata": {},
   "outputs": [
    {
     "data": {
      "text/html": [
       "<div>\n",
       "<style scoped>\n",
       "    .dataframe tbody tr th:only-of-type {\n",
       "        vertical-align: middle;\n",
       "    }\n",
       "\n",
       "    .dataframe tbody tr th {\n",
       "        vertical-align: top;\n",
       "    }\n",
       "\n",
       "    .dataframe thead th {\n",
       "        text-align: right;\n",
       "    }\n",
       "</style>\n",
       "<table border=\"1\" class=\"dataframe\">\n",
       "  <thead>\n",
       "    <tr style=\"text-align: right;\">\n",
       "      <th></th>\n",
       "      <th>Headlines</th>\n",
       "      <th>Countries</th>\n",
       "      <th>Cities</th>\n",
       "    </tr>\n",
       "  </thead>\n",
       "  <tbody>\n",
       "    <tr>\n",
       "      <th>3</th>\n",
       "      <td>Dallas man comes down with case of Zika</td>\n",
       "      <td>NaN</td>\n",
       "      <td>Dallas</td>\n",
       "    </tr>\n",
       "    <tr>\n",
       "      <th>4</th>\n",
       "      <td>Trinidad confirms first Zika case</td>\n",
       "      <td>NaN</td>\n",
       "      <td>Trinidad</td>\n",
       "    </tr>\n",
       "  </tbody>\n",
       "</table>\n",
       "</div>"
      ],
      "text/plain": [
       "                                 Headlines Countries    Cities\n",
       "3  Dallas man comes down with case of Zika       NaN    Dallas\n",
       "4        Trinidad confirms first Zika case       NaN  Trinidad"
      ]
     },
     "execution_count": 29,
     "metadata": {},
     "output_type": "execute_result"
    }
   ],
   "source": [
    "data.iloc[3:5]"
   ]
  },
  {
   "cell_type": "code",
   "execution_count": 30,
   "metadata": {},
   "outputs": [
    {
     "data": {
      "text/html": [
       "<div>\n",
       "<style scoped>\n",
       "    .dataframe tbody tr th:only-of-type {\n",
       "        vertical-align: middle;\n",
       "    }\n",
       "\n",
       "    .dataframe tbody tr th {\n",
       "        vertical-align: top;\n",
       "    }\n",
       "\n",
       "    .dataframe thead th {\n",
       "        text-align: right;\n",
       "    }\n",
       "</style>\n",
       "<table border=\"1\" class=\"dataframe\">\n",
       "  <thead>\n",
       "    <tr style=\"text-align: right;\">\n",
       "      <th></th>\n",
       "      <th>Headlines</th>\n",
       "      <th>Country</th>\n",
       "      <th>City</th>\n",
       "    </tr>\n",
       "  </thead>\n",
       "  <tbody>\n",
       "    <tr>\n",
       "      <th>644</th>\n",
       "      <td>Rumors about Rabies spreading in Jerusalem hav...</td>\n",
       "      <td>NaN</td>\n",
       "      <td>Jerusalem</td>\n",
       "    </tr>\n",
       "    <tr>\n",
       "      <th>645</th>\n",
       "      <td>More Zika patients reported in Indang</td>\n",
       "      <td>NaN</td>\n",
       "      <td>Indang</td>\n",
       "    </tr>\n",
       "    <tr>\n",
       "      <th>646</th>\n",
       "      <td>Suva authorities confirmed the spread of Rotav...</td>\n",
       "      <td>NaN</td>\n",
       "      <td>Suva</td>\n",
       "    </tr>\n",
       "    <tr>\n",
       "      <th>647</th>\n",
       "      <td>More Zika patients reported in Bella Vista</td>\n",
       "      <td>NaN</td>\n",
       "      <td>Bella Vista</td>\n",
       "    </tr>\n",
       "    <tr>\n",
       "      <th>648</th>\n",
       "      <td>Zika Outbreak in Wichita Falls</td>\n",
       "      <td>NaN</td>\n",
       "      <td>Wichita Falls</td>\n",
       "    </tr>\n",
       "  </tbody>\n",
       "</table>\n",
       "</div>"
      ],
      "text/plain": [
       "                                             Headlines Country           City\n",
       "644  Rumors about Rabies spreading in Jerusalem hav...     NaN      Jerusalem\n",
       "645              More Zika patients reported in Indang     NaN         Indang\n",
       "646  Suva authorities confirmed the spread of Rotav...     NaN           Suva\n",
       "647         More Zika patients reported in Bella Vista     NaN    Bella Vista\n",
       "648                     Zika Outbreak in Wichita Falls     NaN  Wichita Falls"
      ]
     },
     "execution_count": 30,
     "metadata": {},
     "output_type": "execute_result"
    }
   ],
   "source": [
    "data = data.rename(columns=dict(Countries=\"Country\", Cities=\"City\"))\n",
    "data.tail()"
   ]
  },
  {
   "cell_type": "markdown",
   "metadata": {},
   "source": [
    "### Se investigan los datos\n",
    "\n"
   ]
  },
  {
   "cell_type": "code",
   "execution_count": 31,
   "metadata": {},
   "outputs": [
    {
     "data": {
      "text/html": [
       "<div>\n",
       "<style scoped>\n",
       "    .dataframe tbody tr th:only-of-type {\n",
       "        vertical-align: middle;\n",
       "    }\n",
       "\n",
       "    .dataframe tbody tr th {\n",
       "        vertical-align: top;\n",
       "    }\n",
       "\n",
       "    .dataframe thead th {\n",
       "        text-align: right;\n",
       "    }\n",
       "</style>\n",
       "<table border=\"1\" class=\"dataframe\">\n",
       "  <thead>\n",
       "    <tr style=\"text-align: right;\">\n",
       "      <th></th>\n",
       "      <th>Headlines</th>\n",
       "      <th>Country</th>\n",
       "      <th>City</th>\n",
       "    </tr>\n",
       "  </thead>\n",
       "  <tbody>\n",
       "    <tr>\n",
       "      <th>count</th>\n",
       "      <td>649</td>\n",
       "      <td>15</td>\n",
       "      <td>607</td>\n",
       "    </tr>\n",
       "    <tr>\n",
       "      <th>unique</th>\n",
       "      <td>646</td>\n",
       "      <td>10</td>\n",
       "      <td>574</td>\n",
       "    </tr>\n",
       "    <tr>\n",
       "      <th>top</th>\n",
       "      <td>Spanish Flu Spreading through Madrid</td>\n",
       "      <td>Brazil</td>\n",
       "      <td>Monroe</td>\n",
       "    </tr>\n",
       "    <tr>\n",
       "      <th>freq</th>\n",
       "      <td>2</td>\n",
       "      <td>3</td>\n",
       "      <td>4</td>\n",
       "    </tr>\n",
       "  </tbody>\n",
       "</table>\n",
       "</div>"
      ],
      "text/plain": [
       "                                   Headlines Country    City\n",
       "count                                    649      15     607\n",
       "unique                                   646      10     574\n",
       "top     Spanish Flu Spreading through Madrid  Brazil  Monroe\n",
       "freq                                       2       3       4"
      ]
     },
     "execution_count": 31,
     "metadata": {},
     "output_type": "execute_result"
    }
   ],
   "source": [
    "data.describe()"
   ]
  },
  {
   "cell_type": "markdown",
   "metadata": {},
   "source": [
    "- Se tienen 649 titulares, 15 países y 607 ciudades. \n",
    "- 646 titulares únicos, 10 países y 574 ciudades únicas. \n",
    "- También, se ve que hay duplicados, en titulares, países y ciudades, por lo que se deberían eliminar."
   ]
  },
  {
   "cell_type": "markdown",
   "metadata": {},
   "source": [
    "Se buscan los duplicados con un value counts."
   ]
  },
  {
   "cell_type": "code",
   "execution_count": 32,
   "metadata": {},
   "outputs": [
    {
     "data": {
      "text/plain": [
       "More Zika patients reported in Bella Vista    1\n",
       "More Zika patients reported in Fort Worth     1\n",
       "Barcelona Struck by Spanish Flu               2\n",
       "Spanish Flu Outbreak in Lisbon                2\n",
       "Spanish Flu Spreading through Madrid          2\n",
       "Name: Headlines, dtype: int64"
      ]
     },
     "execution_count": 32,
     "metadata": {},
     "output_type": "execute_result"
    }
   ],
   "source": [
    "data[\"Headlines\"].value_counts().sort_values().tail()"
   ]
  },
  {
   "cell_type": "code",
   "execution_count": 33,
   "metadata": {},
   "outputs": [
    {
     "name": "stdout",
     "output_type": "stream",
     "text": [
      "There were 649 rows before dropping duplicates.\n",
      "There are 646 rows after dropping duplicates.\n"
     ]
    }
   ],
   "source": [
    "print(f\"There were {len(data)} rows before dropping duplicates.\")\n",
    "data = data.drop_duplicates()\n",
    "print(f\"There are {len(data)} rows after dropping duplicates.\")"
   ]
  },
  {
   "cell_type": "code",
   "execution_count": 34,
   "metadata": {},
   "outputs": [
    {
     "name": "stdout",
     "output_type": "stream",
     "text": [
      "<class 'pandas.core.frame.DataFrame'>\n",
      "Int64Index: 646 entries, 0 to 648\n",
      "Data columns (total 3 columns):\n",
      " #   Column     Non-Null Count  Dtype \n",
      "---  ------     --------------  ----- \n",
      " 0   Headlines  646 non-null    object\n",
      " 1   Country    15 non-null     object\n",
      " 2   City       604 non-null    object\n",
      "dtypes: object(3)\n",
      "memory usage: 20.2+ KB\n"
     ]
    }
   ],
   "source": [
    "data.info()"
   ]
  },
  {
   "cell_type": "code",
   "execution_count": 35,
   "metadata": {},
   "outputs": [
    {
     "data": {
      "text/plain": [
       "Brazil       3\n",
       "Malaysia     3\n",
       "Panama       2\n",
       "Vietnam      1\n",
       "Thailand     1\n",
       "Guatemala    1\n",
       "Belize       1\n",
       "Mexico       1\n",
       "Hong Kong    1\n",
       "Singapore    1\n",
       "Name: Country, dtype: int64"
      ]
     },
     "execution_count": 35,
     "metadata": {},
     "output_type": "execute_result"
    }
   ],
   "source": [
    "data['Country'].value_counts()"
   ]
  },
  {
   "cell_type": "code",
   "execution_count": 36,
   "metadata": {},
   "outputs": [
    {
     "data": {
      "text/plain": [
       "<Axes: title={'center': 'Countries'}>"
      ]
     },
     "execution_count": 36,
     "metadata": {},
     "output_type": "execute_result"
    },
    {
     "data": {
      "image/png": "[encoded data removed]",
      "text/plain": [
       "<Figure size 640x480 with 1 Axes>"
      ]
     },
     "metadata": {},
     "output_type": "display_data"
    }
   ],
   "source": [
    "data['Country'].value_counts().plot.bar(title='Countries')"
   ]
  },
  {
   "cell_type": "code",
   "execution_count": 37,
   "metadata": {},
   "outputs": [
    {
     "name": "stdout",
     "output_type": "stream",
     "text": [
      "There are 10 different countries.\n",
      "There are 574 different cities.\n"
     ]
    }
   ],
   "source": [
    "print(f'There are {data[\"Country\"].nunique()} different countries.')\n",
    "print(f'There are {data[\"City\"].nunique()} different cities.')"
   ]
  },
  {
   "cell_type": "markdown",
   "metadata": {},
   "source": [
    "Las ciudades mas comunes, lo cula también se pudo ver en el describe hecho anteriormente donde se mostraba a Monroe como la ciudad con mayor frecuencia."
   ]
  },
  {
   "cell_type": "code",
   "execution_count": 38,
   "metadata": {},
   "outputs": [
    {
     "data": {
      "text/plain": [
       "Panama City    2\n",
       "Greenville     2\n",
       "Melbourne      2\n",
       "Albany         2\n",
       "Rochester      2\n",
       "Ibadan         2\n",
       "Bedford        2\n",
       "Madrid         3\n",
       "Miami          3\n",
       "Monroe         4\n",
       "Name: City, dtype: int64"
      ]
     },
     "execution_count": 38,
     "metadata": {},
     "output_type": "execute_result"
    }
   ],
   "source": [
    "data[\"City\"].value_counts().sort_values().tail(10)"
   ]
  },
  {
   "cell_type": "code",
   "execution_count": 39,
   "metadata": {},
   "outputs": [
    {
     "data": {
      "image/png": "[encoded data removed]",
      "text/plain": [
       "<Figure size 640x480 with 1 Axes>"
      ]
     },
     "metadata": {},
     "output_type": "display_data"
    }
   ],
   "source": [
    "City_counts = data[\"City\"].value_counts().sort_values().tail(10)\n",
    "\n",
    "plt.bar(City_counts.index, City_counts.values)\n",
    "plt.title(\"10 most common Cities\")\n",
    "plt.xlabel(\"City\")\n",
    "plt.ylabel(\"Count\")\n",
    "plt.xticks(rotation=90)\n",
    "plt.show()"
   ]
  }
 ],
 "metadata": {
  "kernelspec": {
   "display_name": "Python 3",
   "language": "python",
   "name": "python3"
  },
  "language_info": {
   "codemirror_mode": {
    "name": "ipython",
    "version": 3
   },
   "file_extension": ".py",
   "mimetype": "text/x-python",
   "name": "python",
   "nbconvert_exporter": "python",
   "pygments_lexer": "ipython3",
   "version": "3.9.13"
  },
  "orig_nbformat": 4
 },
 "nbformat": 4,
 "nbformat_minor": 2
}
