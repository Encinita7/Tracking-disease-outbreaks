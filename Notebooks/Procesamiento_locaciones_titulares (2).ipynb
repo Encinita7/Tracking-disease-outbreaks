{
 "cells": [
  {
   "cell_type": "markdown",
   "metadata": {},
   "source": [
    "# Latitudes y longitudes\n",
    "\n",
    "Usando GeonamesCache se busca agregar las latitudes y longitudes de las ciudades, dado que así se puede conocer posteriormente en que país están, esto ya que solo se cuenta con 15 países nombrado textualmente. Esto se hará utilizando el archivo JSON de las ciudades escritas con acentos."
   ]
  },
  {
   "cell_type": "code",
   "execution_count": null,
   "metadata": {},
   "outputs": [
    {
     "data": {
      "text/html": [
       "<div>\n",
       "<style scoped>\n",
       "    .dataframe tbody tr th:only-of-type {\n",
       "        vertical-align: middle;\n",
       "    }\n",
       "\n",
       "    .dataframe tbody tr th {\n",
       "        vertical-align: top;\n",
       "    }\n",
       "\n",
       "    .dataframe thead th {\n",
       "        text-align: right;\n",
       "    }\n",
       "</style>\n",
       "<table border=\"1\" class=\"dataframe\">\n",
       "  <thead>\n",
       "    <tr style=\"text-align: right;\">\n",
       "      <th></th>\n",
       "      <th>Headlines</th>\n",
       "      <th>Country</th>\n",
       "      <th>City</th>\n",
       "      <th>accented_city</th>\n",
       "    </tr>\n",
       "  </thead>\n",
       "  <tbody>\n",
       "    <tr>\n",
       "      <th>6</th>\n",
       "      <td>Geneve Scientists Battle to Find Cure</td>\n",
       "      <td>NaN</td>\n",
       "      <td>Geneve</td>\n",
       "      <td>Genève</td>\n",
       "    </tr>\n",
       "    <tr>\n",
       "      <th>8</th>\n",
       "      <td>Zika Infested Monkeys in Sao Paulo</td>\n",
       "      <td>NaN</td>\n",
       "      <td>Sao Paulo</td>\n",
       "      <td>São Paulo</td>\n",
       "    </tr>\n",
       "    <tr>\n",
       "      <th>16</th>\n",
       "      <td>Louisiana Zika cases up to 26</td>\n",
       "      <td>NaN</td>\n",
       "      <td>NaN</td>\n",
       "      <td>NaN</td>\n",
       "    </tr>\n",
       "    <tr>\n",
       "      <th>18</th>\n",
       "      <td>Zika infects pregnant woman in Cebu</td>\n",
       "      <td>NaN</td>\n",
       "      <td>NaN</td>\n",
       "      <td>NaN</td>\n",
       "    </tr>\n",
       "    <tr>\n",
       "      <th>46</th>\n",
       "      <td>18 new Zika Cases in Bogota</td>\n",
       "      <td>NaN</td>\n",
       "      <td>Bogota</td>\n",
       "      <td>Bogotá</td>\n",
       "    </tr>\n",
       "  </tbody>\n",
       "</table>\n",
       "</div>"
      ],
      "text/plain": [
       "                                Headlines Country       City accented_city\n",
       "6   Geneve Scientists Battle to Find Cure     NaN     Geneve        Genève\n",
       "8      Zika Infested Monkeys in Sao Paulo     NaN  Sao Paulo     São Paulo\n",
       "16          Louisiana Zika cases up to 26     NaN        NaN           NaN\n",
       "18    Zika infects pregnant woman in Cebu     NaN        NaN           NaN\n",
       "46            18 new Zika Cases in Bogota     NaN     Bogota        Bogotá"
      ]
     },
     "metadata": {},
     "output_type": "display_data"
    }
   ],
   "source": [
    "gc = geonamescache.GeonamesCache()\n",
    "\n",
    "with open(\"city_accent_mapping.json\", \"r\") as fin:\n",
    "    city_accented_mapping = json.loads(fin.read())\n",
    "\n",
    "data[\"accented_city\"] = data[\"City\"].map(city_accented_mapping)\n",
    "data[data[\"City\"] != data[\"accented_city\"]].head()"
   ]
  },
  {
   "cell_type": "markdown",
   "metadata": {},
   "source": [
    "Se imprime el ejemplo de la ciudad de Sao Paulo, donde se ve su población, latitud y longitud. Esto utilizando la lista con las ciudades con acentos, se ve que no se logra identificar cuando esta unaccented."
   ]
  },
  {
   "cell_type": "code",
   "execution_count": null,
   "metadata": {},
   "outputs": [
    {
     "name": "stdout",
     "output_type": "stream",
     "text": [
      "[{'3448439': {'geonameid': 3448439, 'name': 'São Paulo', 'latitude': -23.5475, 'longitude': -46.63611, 'countrycode': 'BR', 'population': 12400232, 'timezone': 'America/Sao_Paulo', 'admin1code': '27', 'alternatenames': ['SAO', 'Sampa', 'San Paolo', 'San Paul ed Brasil', 'San Paulas', 'San Paulo', 'San Paulu', 'San Paulu du Brasili', 'San Paulu dû Brasili', 'San Pauluw', 'San Pawlo', 'San Polo del Braxil', 'San Poulo', 'San Poło del Braxil', 'San Pàul ëd Brasil', 'San-Paulo', 'San-Paulu', 'San-Paŭlo', 'Sanpaulu', 'Sao Paolo', 'Sao Paulo', 'Sao Paulo capital', 'Saun Paulu', 'Sawo Palo', 'Sawo Pålo', 'São Paolo', 'São Paulo', 'São Paulo capital', 'Urbs Paulistana', 'cavo pavulo', \"sa'o pa'ulo\", \"sa'o paulo\", \"samu pa'ulu\", 'sangpaollo', 'sangpaollu', 'sangpaullo', 'sangpaullu', 'sankt. paulos', 'sanpauro', 'savea pealea', 'savo palo', 'saw bawlw', 'saw palw', 'saw pwlw', 'saywpaywlw', 'sea pea lu', 'sheng bao luo', 'Σάο Πάολο', 'Сан Пауло', 'Сан Паулу', 'Сан-Паулу', 'Сан-Паўлу', 'Сао Паоло', 'Сао Пауло', 'Սան Պաուլու', 'סאו פאולא', 'סאו פאולו', 'ساؤ پالو', 'ساؤ پولو', 'سائوپائولو', 'ساو باولو', 'ܣܐܘ ܦܐܘܠܘ', 'ސައޮ ޕައުލޯ', 'साओ पाउलो', 'সাঁউ পাউলু', 'সাও পাউলো', 'சாவோ பாவுலோ', 'శఒ పౌలొ', 'ಸಾವೊ ಪಾಲೊ', 'സാവോ പോളോ', 'เซาเปาลู', 'ဆောပိုလိုမြို့', 'სან-პაულუ', 'ሳው ፓውሉ', 'サンパウロ', '聖保羅', '상파올로', '상파올루', '상파울로', '상파울루']}}]\n"
     ]
    }
   ],
   "source": [
    "print(gc.get_cities_by_name('São Paulo'))"
   ]
  },
  {
   "cell_type": "code",
   "execution_count": null,
   "metadata": {},
   "outputs": [
    {
     "name": "stdout",
     "output_type": "stream",
     "text": [
      "[]\n"
     ]
    }
   ],
   "source": [
    "print(gc.get_cities_by_name('Sao Paulo'))"
   ]
  },
  {
   "cell_type": "markdown",
   "metadata": {},
   "source": [
    "La forma de tratar las ciudades duplicadas es elegir la ciudad que tenga la mayor población, ya que aunque pueda traer errores, es más probable que el titular nombre una ciudad que tenga una gran población a una con menor."
   ]
  },
  {
   "cell_type": "code",
   "execution_count": null,
   "metadata": {},
   "outputs": [
    {
     "data": {
      "text/plain": [
       "[{'2655138': {'geonameid': 2655138,\n",
       "   'name': 'Boston',\n",
       "   'latitude': 52.97633,\n",
       "   'longitude': -0.02664,\n",
       "   'countrycode': 'GB',\n",
       "   'population': 41340,\n",
       "   'timezone': 'Europe/London',\n",
       "   'admin1code': 'ENG',\n",
       "   'alternatenames': ['Boston',\n",
       "    'Boston i England',\n",
       "    'Bostonas',\n",
       "    'boseuteon',\n",
       "    'bosuton',\n",
       "    'bwstn',\n",
       "    'Бостон',\n",
       "    'بوستون، لینکلن\\u200cشر',\n",
       "    'بوسطن',\n",
       "    'ボストン',\n",
       "    '보스턴']}},\n",
       " {'4930956': {'geonameid': 4930956,\n",
       "   'name': 'Boston',\n",
       "   'latitude': 42.35843,\n",
       "   'longitude': -71.05977,\n",
       "   'countrycode': 'US',\n",
       "   'population': 675647,\n",
       "   'timezone': 'America/New_York',\n",
       "   'admin1code': 'MA',\n",
       "   'alternatenames': ['BOS',\n",
       "    'Baston',\n",
       "    'Bostan',\n",
       "    'Boston',\n",
       "    'Bostona',\n",
       "    'Bostonas',\n",
       "    'Bostone',\n",
       "    'Bostonia',\n",
       "    'Bostono',\n",
       "    'Bostons',\n",
       "    'Bostun',\n",
       "    'Bostún',\n",
       "    'Mushauwomuk',\n",
       "    'Old Boston',\n",
       "    'Po-su-tun',\n",
       "    'Pokekona',\n",
       "    'Pô-sṳ-tun',\n",
       "    'Shawmut',\n",
       "    'Shawmutt',\n",
       "    'Shawnnut',\n",
       "    'Totant',\n",
       "    'Tramount',\n",
       "    'Tremont',\n",
       "    'Trimountain',\n",
       "    'Trimountaine',\n",
       "    'Vostoni',\n",
       "    'Wahstoronon:ke',\n",
       "    'Wahstoronòn:ke',\n",
       "    'Wastok',\n",
       "    'bastan',\n",
       "    'bastana',\n",
       "    'bausatana',\n",
       "    'beasrraൺ',\n",
       "    'bo shi dun',\n",
       "    'boseuteon',\n",
       "    'bostan',\n",
       "    'bostana',\n",
       "    'bostʼoni',\n",
       "    'bosuton',\n",
       "    'bwstn',\n",
       "    'bwstwn',\n",
       "    'bxstan',\n",
       "    'pastan',\n",
       "    'Βοστωνη',\n",
       "    'Βοστώνη',\n",
       "    'Бостан',\n",
       "    'Бостон',\n",
       "    'Бостън',\n",
       "    'Բոստոն',\n",
       "    'באסטאן',\n",
       "    'בוסטון',\n",
       "    'بوستون',\n",
       "    'بوسطن',\n",
       "    'بوسٹن',\n",
       "    'بۆستن',\n",
       "    'ܒܘܣܛܘܢ',\n",
       "    'बस्तन',\n",
       "    'बास्टन्',\n",
       "    'बॉस्टन',\n",
       "    'बोस्टन',\n",
       "    'বস্টন',\n",
       "    'ਬੌਸਟਨ',\n",
       "    'பாஸ்டன்',\n",
       "    'బోస్టన్',\n",
       "    'ಬಾಸ್ಟನ್',\n",
       "    'ബോസ്റ്റൺ',\n",
       "    'บอสตัน',\n",
       "    'བོ་སེ་ཊོན།',\n",
       "    'ဘော့စတွန်မြို့',\n",
       "    'ბოსტონი',\n",
       "    'ቦስቶን',\n",
       "    'ボストン',\n",
       "    '波士頓',\n",
       "    '波士顿',\n",
       "    '보스턴']}}]"
      ]
     },
     "metadata": {},
     "output_type": "display_data"
    }
   ],
   "source": [
    "city = 'Boston'\n",
    "gc.get_cities_by_name(city)"
   ]
  },
  {
   "cell_type": "markdown",
   "metadata": {},
   "source": [
    "Se ve que hay 2 Boston y la con mayor población es la de Estados Unidos por lo que se escogerá esa."
   ]
  },
  {
   "cell_type": "code",
   "execution_count": null,
   "metadata": {},
   "outputs": [
    {
     "data": {
      "text/plain": [
       "[{'geonameid': 4930956,\n",
       "  'name': 'Boston',\n",
       "  'latitude': 42.35843,\n",
       "  'longitude': -71.05977,\n",
       "  'countrycode': 'US',\n",
       "  'population': 675647,\n",
       "  'timezone': 'America/New_York',\n",
       "  'admin1code': 'MA',\n",
       "  'alternatenames': ['BOS',\n",
       "   'Baston',\n",
       "   'Bostan',\n",
       "   'Boston',\n",
       "   'Bostona',\n",
       "   'Bostonas',\n",
       "   'Bostone',\n",
       "   'Bostonia',\n",
       "   'Bostono',\n",
       "   'Bostons',\n",
       "   'Bostun',\n",
       "   'Bostún',\n",
       "   'Mushauwomuk',\n",
       "   'Old Boston',\n",
       "   'Po-su-tun',\n",
       "   'Pokekona',\n",
       "   'Pô-sṳ-tun',\n",
       "   'Shawmut',\n",
       "   'Shawmutt',\n",
       "   'Shawnnut',\n",
       "   'Totant',\n",
       "   'Tramount',\n",
       "   'Tremont',\n",
       "   'Trimountain',\n",
       "   'Trimountaine',\n",
       "   'Vostoni',\n",
       "   'Wahstoronon:ke',\n",
       "   'Wahstoronòn:ke',\n",
       "   'Wastok',\n",
       "   'bastan',\n",
       "   'bastana',\n",
       "   'bausatana',\n",
       "   'beasrraൺ',\n",
       "   'bo shi dun',\n",
       "   'boseuteon',\n",
       "   'bostan',\n",
       "   'bostana',\n",
       "   'bostʼoni',\n",
       "   'bosuton',\n",
       "   'bwstn',\n",
       "   'bwstwn',\n",
       "   'bxstan',\n",
       "   'pastan',\n",
       "   'Βοστωνη',\n",
       "   'Βοστώνη',\n",
       "   'Бостан',\n",
       "   'Бостон',\n",
       "   'Бостън',\n",
       "   'Բոստոն',\n",
       "   'באסטאן',\n",
       "   'בוסטון',\n",
       "   'بوستون',\n",
       "   'بوسطن',\n",
       "   'بوسٹن',\n",
       "   'بۆستن',\n",
       "   'ܒܘܣܛܘܢ',\n",
       "   'बस्तन',\n",
       "   'बास्टन्',\n",
       "   'बॉस्टन',\n",
       "   'बोस्टन',\n",
       "   'বস্টন',\n",
       "   'ਬੌਸਟਨ',\n",
       "   'பாஸ்டன்',\n",
       "   'బోస్టన్',\n",
       "   'ಬಾಸ್ಟನ್',\n",
       "   'ബോസ്റ്റൺ',\n",
       "   'บอสตัน',\n",
       "   'བོ་སེ་ཊོན།',\n",
       "   'ဘော့စတွန်မြို့',\n",
       "   'ბოსტონი',\n",
       "   'ቦስቶን',\n",
       "   'ボストン',\n",
       "   '波士頓',\n",
       "   '波士顿',\n",
       "   '보스턴']},\n",
       " {'geonameid': 2655138,\n",
       "  'name': 'Boston',\n",
       "  'latitude': 52.97633,\n",
       "  'longitude': -0.02664,\n",
       "  'countrycode': 'GB',\n",
       "  'population': 41340,\n",
       "  'timezone': 'Europe/London',\n",
       "  'admin1code': 'ENG',\n",
       "  'alternatenames': ['Boston',\n",
       "   'Boston i England',\n",
       "   'Bostonas',\n",
       "   'boseuteon',\n",
       "   'bosuton',\n",
       "   'bwstn',\n",
       "   'Бостон',\n",
       "   'بوستون، لینکلن\\u200cشر',\n",
       "   'بوسطن',\n",
       "   'ボストン',\n",
       "   '보스턴']}]"
      ]
     },
     "metadata": {},
     "output_type": "display_data"
    }
   ],
   "source": [
    "matches = gc.get_cities_by_name(city)\n",
    "matches = [{k: v for k, v in list(match.values())[0].items()} for match in matches]\n",
    "matches = sorted(matches, key=lambda x: x[\"population\"], reverse=True)\n",
    "matches"
   ]
  },
  {
   "cell_type": "markdown",
   "metadata": {},
   "source": [
    "Se buscan todas las ciudades en los titulares. Y si hay matches, se elije la con mayor población."
   ]
  },
  {
   "cell_type": "code",
   "execution_count": null,
   "metadata": {},
   "outputs": [
    {
     "data": {
      "text/plain": [
       "[{'name': 'Jerusalem',\n",
       "  'latitude': 31.76904,\n",
       "  'longitude': 35.21633,\n",
       "  'countrycode': 'IL',\n",
       "  'pop': 971800},\n",
       " {'name': 'Indang',\n",
       "  'latitude': 14.19528,\n",
       "  'longitude': 120.87694,\n",
       "  'countrycode': 'PH',\n",
       "  'pop': 41159},\n",
       " {'name': 'Suva',\n",
       "  'latitude': -18.13683,\n",
       "  'longitude': 178.42531,\n",
       "  'countrycode': 'FJ',\n",
       "  'pop': 77366},\n",
       " {'name': 'Bella Vista',\n",
       "  'latitude': 18.45539,\n",
       "  'longitude': -69.9454,\n",
       "  'countrycode': 'DO',\n",
       "  'pop': 175683},\n",
       " {'name': 'Wichita Falls',\n",
       "  'latitude': 33.91371,\n",
       "  'longitude': -98.49339,\n",
       "  'countrycode': 'US',\n",
       "  'pop': 104710}]"
      ]
     },
     "metadata": {},
     "output_type": "display_data"
    }
   ],
   "source": [
    "city_locations = []\n",
    "for city in data[\"accented_city\"]:\n",
    "    matches = gc.get_cities_by_name(city)\n",
    "    if matches:\n",
    "        matches = [\n",
    "            {k: v for k, v in list(match.values())[0].items()} for match in matches\n",
    "        ]\n",
    "        matches = sorted(matches, key=lambda x: x[\"population\"], reverse=True)\n",
    "        match = matches[0]\n",
    "        city_locations.append(\n",
    "            {\n",
    "                \"name\": match[\"name\"],\n",
    "                \"latitude\": match[\"latitude\"],\n",
    "                \"longitude\": match[\"longitude\"],\n",
    "                \"countrycode\": match[\"countrycode\"],\n",
    "                \"pop\": match[\"population\"],\n",
    "            }\n",
    "        )\n",
    "\n",
    "city_locations[-5:]"
   ]
  },
  {
   "cell_type": "markdown",
   "metadata": {},
   "source": [
    "Se convierte la lista de las locaciones a un df."
   ]
  },
  {
   "cell_type": "code",
   "execution_count": null,
   "metadata": {},
   "outputs": [
    {
     "data": {
      "text/html": [
       "<div>\n",
       "<style scoped>\n",
       "    .dataframe tbody tr th:only-of-type {\n",
       "        vertical-align: middle;\n",
       "    }\n",
       "\n",
       "    .dataframe tbody tr th {\n",
       "        vertical-align: top;\n",
       "    }\n",
       "\n",
       "    .dataframe thead th {\n",
       "        text-align: right;\n",
       "    }\n",
       "</style>\n",
       "<table border=\"1\" class=\"dataframe\">\n",
       "  <thead>\n",
       "    <tr style=\"text-align: right;\">\n",
       "      <th></th>\n",
       "      <th>name</th>\n",
       "      <th>latitude</th>\n",
       "      <th>longitude</th>\n",
       "      <th>countrycode</th>\n",
       "      <th>pop</th>\n",
       "    </tr>\n",
       "  </thead>\n",
       "  <tbody>\n",
       "    <tr>\n",
       "      <th>599</th>\n",
       "      <td>Jerusalem</td>\n",
       "      <td>31.76904</td>\n",
       "      <td>35.21633</td>\n",
       "      <td>IL</td>\n",
       "      <td>971800</td>\n",
       "    </tr>\n",
       "    <tr>\n",
       "      <th>600</th>\n",
       "      <td>Indang</td>\n",
       "      <td>14.19528</td>\n",
       "      <td>120.87694</td>\n",
       "      <td>PH</td>\n",
       "      <td>41159</td>\n",
       "    </tr>\n",
       "    <tr>\n",
       "      <th>601</th>\n",
       "      <td>Suva</td>\n",
       "      <td>-18.13683</td>\n",
       "      <td>178.42531</td>\n",
       "      <td>FJ</td>\n",
       "      <td>77366</td>\n",
       "    </tr>\n",
       "    <tr>\n",
       "      <th>602</th>\n",
       "      <td>Bella Vista</td>\n",
       "      <td>18.45539</td>\n",
       "      <td>-69.94540</td>\n",
       "      <td>DO</td>\n",
       "      <td>175683</td>\n",
       "    </tr>\n",
       "    <tr>\n",
       "      <th>603</th>\n",
       "      <td>Wichita Falls</td>\n",
       "      <td>33.91371</td>\n",
       "      <td>-98.49339</td>\n",
       "      <td>US</td>\n",
       "      <td>104710</td>\n",
       "    </tr>\n",
       "  </tbody>\n",
       "</table>\n",
       "</div>"
      ],
      "text/plain": [
       "              name  latitude  longitude countrycode     pop\n",
       "599      Jerusalem  31.76904   35.21633          IL  971800\n",
       "600         Indang  14.19528  120.87694          PH   41159\n",
       "601           Suva -18.13683  178.42531          FJ   77366\n",
       "602    Bella Vista  18.45539  -69.94540          DO  175683\n",
       "603  Wichita Falls  33.91371  -98.49339          US  104710"
      ]
     },
     "metadata": {},
     "output_type": "display_data"
    }
   ],
   "source": [
    "city_locations = pd.DataFrame(city_locations)\n",
    "city_locations.tail()"
   ]
  },
  {
   "cell_type": "code",
   "execution_count": null,
   "metadata": {},
   "outputs": [
    {
     "name": "stdout",
     "output_type": "stream",
     "text": [
      "We have the locations for 574 unique cities.\n"
     ]
    }
   ],
   "source": [
    "city_locations = city_locations.drop_duplicates()\n",
    "print(f\"We have the locations for {city_locations.shape[0]} unique cities.\")"
   ]
  },
  {
   "cell_type": "markdown",
   "metadata": {},
   "source": [
    "Se unen las ciudades junto a los nombres de las ciudades con acentos."
   ]
  },
  {
   "cell_type": "code",
   "execution_count": null,
   "metadata": {},
   "outputs": [
    {
     "data": {
      "text/html": [
       "<div>\n",
       "<style scoped>\n",
       "    .dataframe tbody tr th:only-of-type {\n",
       "        vertical-align: middle;\n",
       "    }\n",
       "\n",
       "    .dataframe tbody tr th {\n",
       "        vertical-align: top;\n",
       "    }\n",
       "\n",
       "    .dataframe thead th {\n",
       "        text-align: right;\n",
       "    }\n",
       "</style>\n",
       "<table border=\"1\" class=\"dataframe\">\n",
       "  <thead>\n",
       "    <tr style=\"text-align: right;\">\n",
       "      <th></th>\n",
       "      <th>Headlines</th>\n",
       "      <th>Country</th>\n",
       "      <th>City</th>\n",
       "      <th>accented_city</th>\n",
       "      <th>name</th>\n",
       "      <th>latitude</th>\n",
       "      <th>longitude</th>\n",
       "      <th>countrycode</th>\n",
       "      <th>pop</th>\n",
       "    </tr>\n",
       "  </thead>\n",
       "  <tbody>\n",
       "    <tr>\n",
       "      <th>0</th>\n",
       "      <td>Could Zika Reach New York City?</td>\n",
       "      <td>NaN</td>\n",
       "      <td>New York City</td>\n",
       "      <td>New York City</td>\n",
       "      <td>New York City</td>\n",
       "      <td>40.71427</td>\n",
       "      <td>-74.00597</td>\n",
       "      <td>US</td>\n",
       "      <td>8804190.0</td>\n",
       "    </tr>\n",
       "    <tr>\n",
       "      <th>1</th>\n",
       "      <td>First Case of Zika in Miami Beach</td>\n",
       "      <td>NaN</td>\n",
       "      <td>Miami Beach</td>\n",
       "      <td>Miami Beach</td>\n",
       "      <td>Miami Beach</td>\n",
       "      <td>25.79065</td>\n",
       "      <td>-80.13005</td>\n",
       "      <td>US</td>\n",
       "      <td>92312.0</td>\n",
       "    </tr>\n",
       "    <tr>\n",
       "      <th>2</th>\n",
       "      <td>Mystery Virus Spreads in Recife, Brazil</td>\n",
       "      <td>Brazil</td>\n",
       "      <td>Recife</td>\n",
       "      <td>Recife</td>\n",
       "      <td>Recife</td>\n",
       "      <td>-8.05389</td>\n",
       "      <td>-34.88111</td>\n",
       "      <td>BR</td>\n",
       "      <td>1653461.0</td>\n",
       "    </tr>\n",
       "    <tr>\n",
       "      <th>3</th>\n",
       "      <td>Dallas man comes down with case of Zika</td>\n",
       "      <td>NaN</td>\n",
       "      <td>Dallas</td>\n",
       "      <td>Dallas</td>\n",
       "      <td>Dallas</td>\n",
       "      <td>32.78306</td>\n",
       "      <td>-96.80667</td>\n",
       "      <td>US</td>\n",
       "      <td>1300092.0</td>\n",
       "    </tr>\n",
       "    <tr>\n",
       "      <th>4</th>\n",
       "      <td>Trinidad confirms first Zika case</td>\n",
       "      <td>NaN</td>\n",
       "      <td>Trinidad</td>\n",
       "      <td>Trinidad</td>\n",
       "      <td>Trinidad</td>\n",
       "      <td>-14.83333</td>\n",
       "      <td>-64.90000</td>\n",
       "      <td>BO</td>\n",
       "      <td>84259.0</td>\n",
       "    </tr>\n",
       "  </tbody>\n",
       "</table>\n",
       "</div>"
      ],
      "text/plain": [
       "                                 Headlines Country           City  \\\n",
       "0          Could Zika Reach New York City?     NaN  New York City   \n",
       "1        First Case of Zika in Miami Beach     NaN    Miami Beach   \n",
       "2  Mystery Virus Spreads in Recife, Brazil  Brazil         Recife   \n",
       "3  Dallas man comes down with case of Zika     NaN         Dallas   \n",
       "4        Trinidad confirms first Zika case     NaN       Trinidad   \n",
       "\n",
       "   accented_city           name  latitude  longitude countrycode        pop  \n",
       "0  New York City  New York City  40.71427  -74.00597          US  8804190.0  \n",
       "1    Miami Beach    Miami Beach  25.79065  -80.13005          US    92312.0  \n",
       "2         Recife         Recife  -8.05389  -34.88111          BR  1653461.0  \n",
       "3         Dallas         Dallas  32.78306  -96.80667          US  1300092.0  \n",
       "4       Trinidad       Trinidad -14.83333  -64.90000          BO    84259.0  "
      ]
     },
     "metadata": {},
     "output_type": "display_data"
    }
   ],
   "source": [
    "data = pd.merge(\n",
    "    data, city_locations, left_on=\"accented_city\", right_on=\"name\", how=\"left\"\n",
    ")\n",
    "data.head()"
   ]
  },
  {
   "cell_type": "markdown",
   "metadata": {},
   "source": [
    "Se comprueba que funcionó el elegir la ciudad repetida con mayor población, esto buscando Boston y viendo que si quedó la ubicada en Estados Unidos."
   ]
  },
  {
   "cell_type": "code",
   "execution_count": null,
   "metadata": {},
   "outputs": [
    {
     "data": {
      "text/html": [
       "<div>\n",
       "<style scoped>\n",
       "    .dataframe tbody tr th:only-of-type {\n",
       "        vertical-align: middle;\n",
       "    }\n",
       "\n",
       "    .dataframe tbody tr th {\n",
       "        vertical-align: top;\n",
       "    }\n",
       "\n",
       "    .dataframe thead th {\n",
       "        text-align: right;\n",
       "    }\n",
       "</style>\n",
       "<table border=\"1\" class=\"dataframe\">\n",
       "  <thead>\n",
       "    <tr style=\"text-align: right;\">\n",
       "      <th></th>\n",
       "      <th>Headlines</th>\n",
       "      <th>Country</th>\n",
       "      <th>City</th>\n",
       "      <th>accented_city</th>\n",
       "      <th>name</th>\n",
       "      <th>latitude</th>\n",
       "      <th>longitude</th>\n",
       "      <th>countrycode</th>\n",
       "      <th>pop</th>\n",
       "    </tr>\n",
       "  </thead>\n",
       "  <tbody>\n",
       "    <tr>\n",
       "      <th>26</th>\n",
       "      <td>Flu season hits Boston</td>\n",
       "      <td>NaN</td>\n",
       "      <td>Boston</td>\n",
       "      <td>Boston</td>\n",
       "      <td>Boston</td>\n",
       "      <td>42.35843</td>\n",
       "      <td>-71.05977</td>\n",
       "      <td>US</td>\n",
       "      <td>675647.0</td>\n",
       "    </tr>\n",
       "  </tbody>\n",
       "</table>\n",
       "</div>"
      ],
      "text/plain": [
       "                 Headlines Country    City accented_city    name  latitude  \\\n",
       "26  Flu season hits Boston     NaN  Boston        Boston  Boston  42.35843   \n",
       "\n",
       "    longitude countrycode       pop  \n",
       "26  -71.05977          US  675647.0  "
      ]
     },
     "metadata": {},
     "output_type": "display_data"
    }
   ],
   "source": [
    "data[data['City'] == 'Boston']"
   ]
  },
  {
   "cell_type": "code",
   "execution_count": null,
   "metadata": {},
   "outputs": [
    {
     "data": {
      "text/html": [
       "<div>\n",
       "<style scoped>\n",
       "    .dataframe tbody tr th:only-of-type {\n",
       "        vertical-align: middle;\n",
       "    }\n",
       "\n",
       "    .dataframe tbody tr th {\n",
       "        vertical-align: top;\n",
       "    }\n",
       "\n",
       "    .dataframe thead th {\n",
       "        text-align: right;\n",
       "    }\n",
       "</style>\n",
       "<table border=\"1\" class=\"dataframe\">\n",
       "  <thead>\n",
       "    <tr style=\"text-align: right;\">\n",
       "      <th></th>\n",
       "      <th>Headlines</th>\n",
       "      <th>Country</th>\n",
       "      <th>City</th>\n",
       "      <th>accented_city</th>\n",
       "      <th>name</th>\n",
       "      <th>latitude</th>\n",
       "      <th>longitude</th>\n",
       "      <th>countrycode</th>\n",
       "      <th>pop</th>\n",
       "    </tr>\n",
       "  </thead>\n",
       "  <tbody>\n",
       "    <tr>\n",
       "      <th>83</th>\n",
       "      <td>Rochester authorities confirmed the spread of Dengue</td>\n",
       "      <td>NaN</td>\n",
       "      <td>Rochester</td>\n",
       "      <td>Rochester</td>\n",
       "      <td>Rochester</td>\n",
       "      <td>43.15478</td>\n",
       "      <td>-77.61556</td>\n",
       "      <td>US</td>\n",
       "      <td>209802.0</td>\n",
       "    </tr>\n",
       "    <tr>\n",
       "      <th>297</th>\n",
       "      <td>Herpes Keeps Spreading in Rochester</td>\n",
       "      <td>NaN</td>\n",
       "      <td>Rochester</td>\n",
       "      <td>Rochester</td>\n",
       "      <td>Rochester</td>\n",
       "      <td>43.15478</td>\n",
       "      <td>-77.61556</td>\n",
       "      <td>US</td>\n",
       "      <td>209802.0</td>\n",
       "    </tr>\n",
       "  </tbody>\n",
       "</table>\n",
       "</div>"
      ],
      "text/plain": [
       "                                                Headlines Country       City  \\\n",
       "83   Rochester authorities confirmed the spread of Dengue     NaN  Rochester   \n",
       "297                   Herpes Keeps Spreading in Rochester     NaN  Rochester   \n",
       "\n",
       "    accented_city       name  latitude  longitude countrycode       pop  \n",
       "83      Rochester  Rochester  43.15478  -77.61556          US  209802.0  \n",
       "297     Rochester  Rochester  43.15478  -77.61556          US  209802.0  "
      ]
     },
     "metadata": {},
     "output_type": "display_data"
    }
   ],
   "source": [
    "data[data['City'] == 'Rochester']"
   ]
  },
  {
   "cell_type": "markdown",
   "metadata": {},
   "source": [
    "Se buscan los valores perdidos de cada índice, donde se ve que en países hay muchos datos perdidos."
   ]
  },
  {
   "cell_type": "code",
   "execution_count": null,
   "metadata": {},
   "outputs": [
    {
     "data": {
      "text/plain": [
       "<Axes: title={'center': 'Missing values by column'}>"
      ]
     },
     "metadata": {},
     "output_type": "display_data"
    },
    {
     "data": {
      "image/png": "[encoded data removed]",
      "text/plain": [
       "<Figure size 640x480 with 1 Axes>"
      ]
     },
     "metadata": {},
     "output_type": "display_data"
    }
   ],
   "source": [
    "data.isna().sum().plot.bar(title='Missing values by column')"
   ]
  },
  {
   "cell_type": "markdown",
   "metadata": {},
   "source": [
    "Al haber muchos datos perdidos en países se decide botar esa columna ya que no entrega mucha información. "
   ]
  },
  {
   "cell_type": "code",
   "execution_count": null,
   "metadata": {},
   "outputs": [],
   "source": [
    "data = data.drop(columns=['Country'])"
   ]
  },
  {
   "cell_type": "markdown",
   "metadata": {},
   "source": [
    "Se buscan los titulares donde no aparecen sus ciudades, pero se ve que en en este si se distinguen ciudades, solo que al parecer estas no se encuentran en GeonamesCache. Aquí se deberán eliminar estas ciudades ya que no serán útiles."
   ]
  },
  {
   "cell_type": "code",
   "execution_count": null,
   "metadata": {},
   "outputs": [
    {
     "name": "stdout",
     "output_type": "stream",
     "text": [
      "There are 42 headlines without a city.\n"
     ]
    },
    {
     "data": {
      "text/html": [
       "<div>\n",
       "<style scoped>\n",
       "    .dataframe tbody tr th:only-of-type {\n",
       "        vertical-align: middle;\n",
       "    }\n",
       "\n",
       "    .dataframe tbody tr th {\n",
       "        vertical-align: top;\n",
       "    }\n",
       "\n",
       "    .dataframe thead th {\n",
       "        text-align: right;\n",
       "    }\n",
       "</style>\n",
       "<table border=\"1\" class=\"dataframe\">\n",
       "  <thead>\n",
       "    <tr style=\"text-align: right;\">\n",
       "      <th></th>\n",
       "      <th>Headlines</th>\n",
       "      <th>City</th>\n",
       "      <th>accented_city</th>\n",
       "      <th>name</th>\n",
       "      <th>latitude</th>\n",
       "      <th>longitude</th>\n",
       "      <th>countrycode</th>\n",
       "      <th>pop</th>\n",
       "    </tr>\n",
       "  </thead>\n",
       "  <tbody>\n",
       "    <tr>\n",
       "      <th>595</th>\n",
       "      <td>Zika arrives in Dangriga</td>\n",
       "      <td>NaN</td>\n",
       "      <td>NaN</td>\n",
       "      <td>NaN</td>\n",
       "      <td>NaN</td>\n",
       "      <td>NaN</td>\n",
       "      <td>NaN</td>\n",
       "      <td>NaN</td>\n",
       "    </tr>\n",
       "    <tr>\n",
       "      <th>600</th>\n",
       "      <td>More Patients in Maynard are Getting Diagnosed with Syphilis</td>\n",
       "      <td>NaN</td>\n",
       "      <td>NaN</td>\n",
       "      <td>NaN</td>\n",
       "      <td>NaN</td>\n",
       "      <td>NaN</td>\n",
       "      <td>NaN</td>\n",
       "      <td>NaN</td>\n",
       "    </tr>\n",
       "    <tr>\n",
       "      <th>624</th>\n",
       "      <td>Zika case reported in Antioquia</td>\n",
       "      <td>NaN</td>\n",
       "      <td>NaN</td>\n",
       "      <td>NaN</td>\n",
       "      <td>NaN</td>\n",
       "      <td>NaN</td>\n",
       "      <td>NaN</td>\n",
       "      <td>NaN</td>\n",
       "    </tr>\n",
       "    <tr>\n",
       "      <th>626</th>\n",
       "      <td>Chikungunya has not Left Pismo Beach</td>\n",
       "      <td>NaN</td>\n",
       "      <td>NaN</td>\n",
       "      <td>NaN</td>\n",
       "      <td>NaN</td>\n",
       "      <td>NaN</td>\n",
       "      <td>NaN</td>\n",
       "      <td>NaN</td>\n",
       "    </tr>\n",
       "    <tr>\n",
       "      <th>627</th>\n",
       "      <td>Zika spreads to La Joya</td>\n",
       "      <td>NaN</td>\n",
       "      <td>NaN</td>\n",
       "      <td>NaN</td>\n",
       "      <td>NaN</td>\n",
       "      <td>NaN</td>\n",
       "      <td>NaN</td>\n",
       "      <td>NaN</td>\n",
       "    </tr>\n",
       "  </tbody>\n",
       "</table>\n",
       "</div>"
      ],
      "text/plain": [
       "                                                        Headlines City  \\\n",
       "595                                      Zika arrives in Dangriga  NaN   \n",
       "600  More Patients in Maynard are Getting Diagnosed with Syphilis  NaN   \n",
       "624                               Zika case reported in Antioquia  NaN   \n",
       "626                          Chikungunya has not Left Pismo Beach  NaN   \n",
       "627                                       Zika spreads to La Joya  NaN   \n",
       "\n",
       "    accented_city name  latitude  longitude countrycode  pop  \n",
       "595           NaN  NaN       NaN        NaN         NaN  NaN  \n",
       "600           NaN  NaN       NaN        NaN         NaN  NaN  \n",
       "624           NaN  NaN       NaN        NaN         NaN  NaN  \n",
       "626           NaN  NaN       NaN        NaN         NaN  NaN  \n",
       "627           NaN  NaN       NaN        NaN         NaN  NaN  "
      ]
     },
     "metadata": {},
     "output_type": "display_data"
    }
   ],
   "source": [
    "pd.options.display.max_colwidth = 100\n",
    "\n",
    "no_name = data[data[\"name\"].isna()].copy()\n",
    "\n",
    "print(f\"There are {len(no_name)} headlines without a city.\")\n",
    "\n",
    "no_name.tail()"
   ]
  },
  {
   "cell_type": "code",
   "execution_count": null,
   "metadata": {},
   "outputs": [
    {
     "name": "stdout",
     "output_type": "stream",
     "text": [
      "Did Not Find City\n",
      "Did Not Find City\n",
      "Did Not Find City\n",
      "Did Not Find City\n",
      "Did Not Find City\n"
     ]
    }
   ],
   "source": [
    "city_set = set(city_accented_mapping.keys())\n",
    "\n",
    "for City in [\"Dangriga\", \"Maynard\", \"Antioquia\", \"Pismo Beach\", \"La Joya\"]:\n",
    "    if City in city_set:\n",
    "        print(\"Found \", City)\n",
    "    else:\n",
    "        print(\"Did Not Find City\")"
   ]
  },
  {
   "cell_type": "code",
   "execution_count": null,
   "metadata": {},
   "outputs": [
    {
     "data": {
      "text/html": [
       "<div>\n",
       "<style scoped>\n",
       "    .dataframe tbody tr th:only-of-type {\n",
       "        vertical-align: middle;\n",
       "    }\n",
       "\n",
       "    .dataframe tbody tr th {\n",
       "        vertical-align: top;\n",
       "    }\n",
       "\n",
       "    .dataframe thead th {\n",
       "        text-align: right;\n",
       "    }\n",
       "</style>\n",
       "<table border=\"1\" class=\"dataframe\">\n",
       "  <thead>\n",
       "    <tr style=\"text-align: right;\">\n",
       "      <th></th>\n",
       "      <th>latitude</th>\n",
       "      <th>longitude</th>\n",
       "      <th>pop</th>\n",
       "    </tr>\n",
       "  </thead>\n",
       "  <tbody>\n",
       "    <tr>\n",
       "      <th>count</th>\n",
       "      <td>604.000000</td>\n",
       "      <td>604.000000</td>\n",
       "      <td>6.040000e+02</td>\n",
       "    </tr>\n",
       "    <tr>\n",
       "      <th>mean</th>\n",
       "      <td>26.683511</td>\n",
       "      <td>-38.068211</td>\n",
       "      <td>9.974999e+05</td>\n",
       "    </tr>\n",
       "    <tr>\n",
       "      <th>std</th>\n",
       "      <td>20.629250</td>\n",
       "      <td>79.433887</td>\n",
       "      <td>2.318401e+06</td>\n",
       "    </tr>\n",
       "    <tr>\n",
       "      <th>min</th>\n",
       "      <td>-53.787690</td>\n",
       "      <td>-156.506040</td>\n",
       "      <td>1.338100e+04</td>\n",
       "    </tr>\n",
       "    <tr>\n",
       "      <th>25%</th>\n",
       "      <td>15.671793</td>\n",
       "      <td>-90.343035</td>\n",
       "      <td>5.869225e+04</td>\n",
       "    </tr>\n",
       "    <tr>\n",
       "      <th>50%</th>\n",
       "      <td>33.544030</td>\n",
       "      <td>-76.348955</td>\n",
       "      <td>1.823535e+05</td>\n",
       "    </tr>\n",
       "    <tr>\n",
       "      <th>75%</th>\n",
       "      <td>40.719617</td>\n",
       "      <td>7.195387</td>\n",
       "      <td>6.852645e+05</td>\n",
       "    </tr>\n",
       "    <tr>\n",
       "      <th>max</th>\n",
       "      <td>59.938630</td>\n",
       "      <td>179.364510</td>\n",
       "      <td>1.896074e+07</td>\n",
       "    </tr>\n",
       "  </tbody>\n",
       "</table>\n",
       "</div>"
      ],
      "text/plain": [
       "         latitude   longitude           pop\n",
       "count  604.000000  604.000000  6.040000e+02\n",
       "mean    26.683511  -38.068211  9.974999e+05\n",
       "std     20.629250   79.433887  2.318401e+06\n",
       "min    -53.787690 -156.506040  1.338100e+04\n",
       "25%     15.671793  -90.343035  5.869225e+04\n",
       "50%     33.544030  -76.348955  1.823535e+05\n",
       "75%     40.719617    7.195387  6.852645e+05\n",
       "max     59.938630  179.364510  1.896074e+07"
      ]
     },
     "metadata": {},
     "output_type": "display_data"
    }
   ],
   "source": [
    "data = data.dropna(subset=['name'])\n",
    "data.describe()"
   ]
  },
  {
   "cell_type": "code",
   "execution_count": null,
   "metadata": {},
   "outputs": [
    {
     "name": "stdout",
     "output_type": "stream",
     "text": [
      "We have the city locations for 604 cities.\n"
     ]
    }
   ],
   "source": [
    "print(f'We have the city locations for {len(data)} cities.')"
   ]
  },
  {
   "cell_type": "code",
   "execution_count": null,
   "metadata": {},
   "outputs": [
    {
     "data": {
      "text/plain": [
       "<Axes: title={'center': 'Histogram of population'}, ylabel='Frequency'>"
      ]
     },
     "metadata": {},
     "output_type": "display_data"
    },
    {
     "data": {
      "image/png": "[encoded data removed]",
      "text/plain": [
       "<Figure size 640x480 with 1 Axes>"
      ]
     },
     "metadata": {},
     "output_type": "display_data"
    }
   ],
   "source": [
    "data['pop'].plot.hist(title='Histogram of population')"
   ]
  },
  {
   "cell_type": "markdown",
   "metadata": {},
   "source": [
    "Ploteando longitud y latitud se puede ver que los puntos se asimilan a un mapa."
   ]
  },
  {
   "cell_type": "code",
   "execution_count": null,
   "metadata": {},
   "outputs": [
    {
     "data": {
      "text/plain": [
       "<Axes: title={'center': 'Latitude and Longitude'}, xlabel='longitude', ylabel='latitude'>"
      ]
     },
     "metadata": {},
     "output_type": "display_data"
    },
    {
     "data": {
      "image/png": "[encoded data removed]",
      "text/plain": [
       "<Figure size 640x480 with 1 Axes>"
      ]
     },
     "metadata": {},
     "output_type": "display_data"
    }
   ],
   "source": [
    "data.plot.scatter(\n",
    "    x=\"longitude\", y=\"latitude\", title=\"Latitude and Longitude\")"
   ]
  },
  {
   "cell_type": "markdown",
   "metadata": {},
   "source": [
    "Se elimina la columna 'name' ya que no entrega nueva información."
   ]
  },
  {
   "cell_type": "code",
   "execution_count": null,
   "metadata": {},
   "outputs": [
    {
     "data": {
      "text/html": [
       "<div>\n",
       "<style scoped>\n",
       "    .dataframe tbody tr th:only-of-type {\n",
       "        vertical-align: middle;\n",
       "    }\n",
       "\n",
       "    .dataframe tbody tr th {\n",
       "        vertical-align: top;\n",
       "    }\n",
       "\n",
       "    .dataframe thead th {\n",
       "        text-align: right;\n",
       "    }\n",
       "</style>\n",
       "<table border=\"1\" class=\"dataframe\">\n",
       "  <thead>\n",
       "    <tr style=\"text-align: right;\">\n",
       "      <th></th>\n",
       "      <th>Headlines</th>\n",
       "      <th>City</th>\n",
       "      <th>accented_city</th>\n",
       "      <th>latitude</th>\n",
       "      <th>longitude</th>\n",
       "      <th>countrycode</th>\n",
       "      <th>pop</th>\n",
       "    </tr>\n",
       "  </thead>\n",
       "  <tbody>\n",
       "    <tr>\n",
       "      <th>641</th>\n",
       "      <td>Rumors about Rabies spreading in Jerusalem have been refuted</td>\n",
       "      <td>Jerusalem</td>\n",
       "      <td>Jerusalem</td>\n",
       "      <td>31.76904</td>\n",
       "      <td>35.21633</td>\n",
       "      <td>IL</td>\n",
       "      <td>971800.0</td>\n",
       "    </tr>\n",
       "    <tr>\n",
       "      <th>642</th>\n",
       "      <td>More Zika patients reported in Indang</td>\n",
       "      <td>Indang</td>\n",
       "      <td>Indang</td>\n",
       "      <td>14.19528</td>\n",
       "      <td>120.87694</td>\n",
       "      <td>PH</td>\n",
       "      <td>41159.0</td>\n",
       "    </tr>\n",
       "    <tr>\n",
       "      <th>643</th>\n",
       "      <td>Suva authorities confirmed the spread of Rotavirus</td>\n",
       "      <td>Suva</td>\n",
       "      <td>Suva</td>\n",
       "      <td>-18.13683</td>\n",
       "      <td>178.42531</td>\n",
       "      <td>FJ</td>\n",
       "      <td>77366.0</td>\n",
       "    </tr>\n",
       "    <tr>\n",
       "      <th>644</th>\n",
       "      <td>More Zika patients reported in Bella Vista</td>\n",
       "      <td>Bella Vista</td>\n",
       "      <td>Bella Vista</td>\n",
       "      <td>18.45539</td>\n",
       "      <td>-69.94540</td>\n",
       "      <td>DO</td>\n",
       "      <td>175683.0</td>\n",
       "    </tr>\n",
       "    <tr>\n",
       "      <th>645</th>\n",
       "      <td>Zika Outbreak in Wichita Falls</td>\n",
       "      <td>Wichita Falls</td>\n",
       "      <td>Wichita Falls</td>\n",
       "      <td>33.91371</td>\n",
       "      <td>-98.49339</td>\n",
       "      <td>US</td>\n",
       "      <td>104710.0</td>\n",
       "    </tr>\n",
       "  </tbody>\n",
       "</table>\n",
       "</div>"
      ],
      "text/plain": [
       "                                                        Headlines  \\\n",
       "641  Rumors about Rabies spreading in Jerusalem have been refuted   \n",
       "642                         More Zika patients reported in Indang   \n",
       "643            Suva authorities confirmed the spread of Rotavirus   \n",
       "644                    More Zika patients reported in Bella Vista   \n",
       "645                                Zika Outbreak in Wichita Falls   \n",
       "\n",
       "              City  accented_city  latitude  longitude countrycode       pop  \n",
       "641      Jerusalem      Jerusalem  31.76904   35.21633          IL  971800.0  \n",
       "642         Indang         Indang  14.19528  120.87694          PH   41159.0  \n",
       "643           Suva           Suva -18.13683  178.42531          FJ   77366.0  \n",
       "644    Bella Vista    Bella Vista  18.45539  -69.94540          DO  175683.0  \n",
       "645  Wichita Falls  Wichita Falls  33.91371  -98.49339          US  104710.0  "
      ]
     },
     "metadata": {},
     "output_type": "display_data"
    }
   ],
   "source": [
    "data = data.drop(columns=['name'])\n",
    "data.tail()"
   ]
  },
  {
   "cell_type": "markdown",
   "metadata": {},
   "source": [
    "Con todo esto, se obtiene un DataFrame limpio y con toda la información necesaria para poder localizar las enfermedades según las ciudades y titulares."
   ]
  },
  {
   "cell_type": "code",
   "execution_count": null,
   "metadata": {},
   "outputs": [
    {
     "data": {
      "text/html": [
       "<div>\n",
       "<style scoped>\n",
       "    .dataframe tbody tr th:only-of-type {\n",
       "        vertical-align: middle;\n",
       "    }\n",
       "\n",
       "    .dataframe tbody tr th {\n",
       "        vertical-align: top;\n",
       "    }\n",
       "\n",
       "    .dataframe thead th {\n",
       "        text-align: right;\n",
       "    }\n",
       "</style>\n",
       "<table border=\"1\" class=\"dataframe\">\n",
       "  <thead>\n",
       "    <tr style=\"text-align: right;\">\n",
       "      <th></th>\n",
       "      <th>Headlines</th>\n",
       "      <th>City</th>\n",
       "      <th>latitude</th>\n",
       "      <th>longitude</th>\n",
       "      <th>countrycode</th>\n",
       "    </tr>\n",
       "  </thead>\n",
       "  <tbody>\n",
       "    <tr>\n",
       "      <th>0</th>\n",
       "      <td>Could Zika Reach New York City?</td>\n",
       "      <td>New York City</td>\n",
       "      <td>40.71427</td>\n",
       "      <td>-74.00597</td>\n",
       "      <td>US</td>\n",
       "    </tr>\n",
       "    <tr>\n",
       "      <th>1</th>\n",
       "      <td>First Case of Zika in Miami Beach</td>\n",
       "      <td>Miami Beach</td>\n",
       "      <td>25.79065</td>\n",
       "      <td>-80.13005</td>\n",
       "      <td>US</td>\n",
       "    </tr>\n",
       "    <tr>\n",
       "      <th>2</th>\n",
       "      <td>Mystery Virus Spreads in Recife, Brazil</td>\n",
       "      <td>Recife</td>\n",
       "      <td>-8.05389</td>\n",
       "      <td>-34.88111</td>\n",
       "      <td>BR</td>\n",
       "    </tr>\n",
       "    <tr>\n",
       "      <th>3</th>\n",
       "      <td>Dallas man comes down with case of Zika</td>\n",
       "      <td>Dallas</td>\n",
       "      <td>32.78306</td>\n",
       "      <td>-96.80667</td>\n",
       "      <td>US</td>\n",
       "    </tr>\n",
       "    <tr>\n",
       "      <th>4</th>\n",
       "      <td>Trinidad confirms first Zika case</td>\n",
       "      <td>Trinidad</td>\n",
       "      <td>-14.83333</td>\n",
       "      <td>-64.90000</td>\n",
       "      <td>BO</td>\n",
       "    </tr>\n",
       "    <tr>\n",
       "      <th>5</th>\n",
       "      <td>Zika Concerns are Spreading in Houston</td>\n",
       "      <td>Houston</td>\n",
       "      <td>29.76328</td>\n",
       "      <td>-95.36327</td>\n",
       "      <td>US</td>\n",
       "    </tr>\n",
       "    <tr>\n",
       "      <th>6</th>\n",
       "      <td>Geneve Scientists Battle to Find Cure</td>\n",
       "      <td>Geneve</td>\n",
       "      <td>46.20222</td>\n",
       "      <td>6.14569</td>\n",
       "      <td>CH</td>\n",
       "    </tr>\n",
       "    <tr>\n",
       "      <th>7</th>\n",
       "      <td>The CDC in Atlanta is Growing Worried</td>\n",
       "      <td>Atlanta</td>\n",
       "      <td>33.74900</td>\n",
       "      <td>-84.38798</td>\n",
       "      <td>US</td>\n",
       "    </tr>\n",
       "    <tr>\n",
       "      <th>8</th>\n",
       "      <td>Zika Infested Monkeys in Sao Paulo</td>\n",
       "      <td>Sao Paulo</td>\n",
       "      <td>-23.54750</td>\n",
       "      <td>-46.63611</td>\n",
       "      <td>BR</td>\n",
       "    </tr>\n",
       "    <tr>\n",
       "      <th>9</th>\n",
       "      <td>Brownsville teen contracts Zika virus</td>\n",
       "      <td>Brownsville</td>\n",
       "      <td>25.90175</td>\n",
       "      <td>-97.49748</td>\n",
       "      <td>US</td>\n",
       "    </tr>\n",
       "  </tbody>\n",
       "</table>\n",
       "</div>"
      ],
      "text/plain": [
       "                                 Headlines           City  latitude  \\\n",
       "0          Could Zika Reach New York City?  New York City  40.71427   \n",
       "1        First Case of Zika in Miami Beach    Miami Beach  25.79065   \n",
       "2  Mystery Virus Spreads in Recife, Brazil         Recife  -8.05389   \n",
       "3  Dallas man comes down with case of Zika         Dallas  32.78306   \n",
       "4        Trinidad confirms first Zika case       Trinidad -14.83333   \n",
       "5   Zika Concerns are Spreading in Houston        Houston  29.76328   \n",
       "6    Geneve Scientists Battle to Find Cure         Geneve  46.20222   \n",
       "7    The CDC in Atlanta is Growing Worried        Atlanta  33.74900   \n",
       "8       Zika Infested Monkeys in Sao Paulo      Sao Paulo -23.54750   \n",
       "9    Brownsville teen contracts Zika virus    Brownsville  25.90175   \n",
       "\n",
       "   longitude countrycode  \n",
       "0  -74.00597          US  \n",
       "1  -80.13005          US  \n",
       "2  -34.88111          BR  \n",
       "3  -96.80667          US  \n",
       "4  -64.90000          BO  \n",
       "5  -95.36327          US  \n",
       "6    6.14569          CH  \n",
       "7  -84.38798          US  \n",
       "8  -46.63611          BR  \n",
       "9  -97.49748          US  "
      ]
     },
     "metadata": {},
     "output_type": "display_data"
    }
   ],
   "source": [
    "data[['Headlines', 'City', 'latitude', 'longitude', 'countrycode']].head(10)"
   ]
  },
  {
   "cell_type": "code",
   "execution_count": null,
   "metadata": {},
   "outputs": [],
   "source": [
    "data.to_csv('processed_headlines_locations.csv')"
   ]
  }
 ],
 "metadata": {
  "kernelspec": {
   "display_name": "Python 3",
   "language": "python",
   "name": "python3"
  },
  "language_info": {
   "name": "python",
   "version": "3.9.13"
  },
  "orig_nbformat": 4
 },
 "nbformat": 4,
 "nbformat_minor": 2
}
